{
 "cells": [
  {
   "cell_type": "markdown",
   "id": "759d04ba",
   "metadata": {
    "id": "759d04ba"
   },
   "source": [
    "**1-Write a Python program to calculate the length of a string using 2 ways"
   ]
  },
  {
   "cell_type": "code",
   "execution_count": 1,
   "id": "e434c950",
   "metadata": {
    "colab": {
     "base_uri": "https://localhost:8080/"
    },
    "id": "e434c950",
    "outputId": "72d2b7eb-4a37-479c-be62-d158045f7827"
   },
   "outputs": [
    {
     "name": "stdin",
     "output_type": "stream",
     "text": [
      " Hello World\n"
     ]
    },
    {
     "name": "stdout",
     "output_type": "stream",
     "text": [
      "11\n"
     ]
    }
   ],
   "source": [
    "word = input()\n",
    "print(len(word))"
   ]
  },
  {
   "cell_type": "code",
   "execution_count": 2,
   "id": "7a2dfa32",
   "metadata": {
    "colab": {
     "base_uri": "https://localhost:8080/"
    },
    "id": "7a2dfa32",
    "outputId": "bd0c75b7-9cbc-46d7-d071-f6ba862cddaa"
   },
   "outputs": [
    {
     "name": "stdout",
     "output_type": "stream",
     "text": [
      "12\n"
     ]
    }
   ],
   "source": [
    "sum = 0\n",
    "for i in word:\n",
    "  sum+=1\n",
    "\n",
    "print(sum)"
   ]
  },
  {
   "cell_type": "markdown",
   "id": "d7cc9da7",
   "metadata": {
    "id": "d7cc9da7"
   },
   "source": [
    "**2-Write a Python program to get a string made of the first 2 and last 2 characters of a given string. If the string length is less than 2, return the empty string instead (\"##Sample String : 'w3resource'\n",
    "Expected Result : 'w3ce'\n",
    "##Sample String : 'w3'\n",
    "Expected Result : 'w3w3'\n",
    "##Sample String : ' w'\n",
    "Expected Result : Empty String)"
   ]
  },
  {
   "cell_type": "code",
   "execution_count": 15,
   "id": "dafa9dd8",
   "metadata": {
    "colab": {
     "base_uri": "https://localhost:8080/"
    },
    "id": "dafa9dd8",
    "outputId": "acbe3f4e-1b35-42d9-fbda-4a9227d991a5"
   },
   "outputs": [
    {
     "name": "stdout",
     "output_type": "stream",
     "text": [
      "W3W3\n"
     ]
    }
   ],
   "source": [
    "def first_last(word):\n",
    "  if len(word) < 2:\n",
    "    print(\"Empty String\")\n",
    "  else:\n",
    "    print(word[:2]+\"\"+word[-2:])\n",
    "\n",
    "first_last(\"W3\")"
   ]
  },
  {
   "cell_type": "markdown",
   "id": "1534f956",
   "metadata": {
    "id": "1534f956"
   },
   "source": [
    "**3-Write a Python program to add 'ing' at the end of a given string (length should be at least 3). If the given string already ends with 'ing', add 'ly' instead. If the string length of the given string is less than 3, leave it unchanged. (Sample String : 'abc'\n",
    "Expected Result : 'abcing')"
   ]
  },
  {
   "cell_type": "code",
   "execution_count": 17,
   "id": "7ff8cec4",
   "metadata": {
    "colab": {
     "base_uri": "https://localhost:8080/"
    },
    "id": "7ff8cec4",
    "outputId": "c534ae8f-d922-4354-b381-a4217ee60164"
   },
   "outputs": [
    {
     "name": "stdout",
     "output_type": "stream",
     "text": [
      "abcing\n"
     ]
    }
   ],
   "source": [
    "def add_ing(word):\n",
    "  if len(word)<3:\n",
    "    print(word)\n",
    "  elif word[-3:].lower() == 'ing':\n",
    "    print(word[:-3]+\"\"+'ly')\n",
    "  else:\n",
    "    print(word+\"\"+\"ing\")\n",
    "\n",
    "add_ing(\"abc\")"
   ]
  },
  {
   "cell_type": "code",
   "execution_count": 18,
   "id": "8Thi_dhmsfzB",
   "metadata": {
    "colab": {
     "base_uri": "https://localhost:8080/"
    },
    "id": "8Thi_dhmsfzB",
    "outputId": "46690923-28be-4469-cd6d-c6c07f6ca646"
   },
   "outputs": [
    {
     "name": "stdout",
     "output_type": "stream",
     "text": [
      "abcly\n"
     ]
    }
   ],
   "source": [
    "add_ing(\"abcing\")"
   ]
  },
  {
   "cell_type": "code",
   "execution_count": 19,
   "id": "P-QExqe8snuQ",
   "metadata": {
    "colab": {
     "base_uri": "https://localhost:8080/"
    },
    "id": "P-QExqe8snuQ",
    "outputId": "7c1533d3-d192-458a-acc6-6145f50aca63"
   },
   "outputs": [
    {
     "name": "stdout",
     "output_type": "stream",
     "text": [
      "ab\n"
     ]
    }
   ],
   "source": [
    "add_ing(\"ab\")"
   ]
  },
  {
   "cell_type": "markdown",
   "id": "1c0a6627",
   "metadata": {
    "id": "1c0a6627"
   },
   "source": [
    "**4-Write a Python function that takes a list of words and return the longest word and the length of the longest one\n",
    "(Longest word: Exercises\n",
    "Length of the longest word: 9)"
   ]
  },
  {
   "cell_type": "code",
   "execution_count": 27,
   "id": "SpMSQnXV1zoz",
   "metadata": {
    "colab": {
     "base_uri": "https://localhost:8080/"
    },
    "id": "SpMSQnXV1zoz",
    "outputId": "f25815f3-7527-4702-b2bd-04e44ea6011b"
   },
   "outputs": [
    {
     "name": "stdout",
     "output_type": "stream",
     "text": [
      "please enter the list of words:\tamr mostafa ahmed omar esmail\n",
      "[3, 7, 5, 4, 6]\n",
      "mostafa 7\n"
     ]
    }
   ],
   "source": [
    "words = input(\"please enter the list of words:\\t\").split()\n",
    "len_ = list(map(len , words))\n",
    "print(len_)\n",
    "print(words[len_.index(max(len_))], max(len_))"
   ]
  },
  {
   "cell_type": "markdown",
   "id": "53a03a6a",
   "metadata": {
    "id": "53a03a6a"
   },
   "source": [
    "**5-Write a Python program to change a given string to a newly string where the first and last chars have been exchanged using 2 ways (Sample String:abca  Expected Result:ebce)"
   ]
  },
  {
   "cell_type": "code",
   "execution_count": 28,
   "id": "fd327d2a",
   "metadata": {
    "colab": {
     "base_uri": "https://localhost:8080/"
    },
    "id": "fd327d2a",
    "outputId": "8685aed2-dacc-4566-a253-4e6b13608a93"
   },
   "outputs": [
    {
     "name": "stdout",
     "output_type": "stream",
     "text": [
      "ebce\n"
     ]
    }
   ],
   "source": [
    "word = \"abca\"\n",
    "print(\"e\"+word[1:-1]+\"e\")"
   ]
  },
  {
   "cell_type": "code",
   "execution_count": 29,
   "id": "285788b4",
   "metadata": {
    "colab": {
     "base_uri": "https://localhost:8080/"
    },
    "id": "285788b4",
    "outputId": "9710be43-6711-4e41-a74b-67c170c40322"
   },
   "outputs": [
    {
     "name": "stdout",
     "output_type": "stream",
     "text": [
      "ebce\n"
     ]
    }
   ],
   "source": [
    "word = \"abca\"\n",
    "for i in range(len(word)):\n",
    "  if i == 0:\n",
    "    word = 'e'+word[i+1:]\n",
    "  elif i == len(word)-1:\n",
    "    word = word[:i]+'e'\n",
    "print(word)"
   ]
  },
  {
   "cell_type": "markdown",
   "id": "25f89808",
   "metadata": {
    "id": "25f89808"
   },
   "source": [
    "**6-Write a Python program to remove characters that have odd index values in a given string (Sample String:abca Expected Result:ac)"
   ]
  },
  {
   "cell_type": "code",
   "execution_count": 32,
   "id": "05959bd7",
   "metadata": {
    "colab": {
     "base_uri": "https://localhost:8080/"
    },
    "id": "05959bd7",
    "outputId": "a4fc9bdb-acfe-4023-c57d-8fbbedbeeaf7"
   },
   "outputs": [
    {
     "name": "stdout",
     "output_type": "stream",
     "text": [
      "ac\n"
     ]
    }
   ],
   "source": [
    "word = \"abca\"\n",
    "new_word = \"\"\n",
    "for i in range(len(word)):\n",
    "  if i % 2 != 0:\n",
    "    continue\n",
    "  else:\n",
    "    new_word += word[i]\n",
    "\n",
    "print(new_word)"
   ]
  },
  {
   "cell_type": "markdown",
   "id": "eb16e898",
   "metadata": {
    "id": "eb16e898"
   },
   "source": [
    "**7-Write a Python program to count the occurrences of each word in a given sentence (Sample String:amr and ahmed are frindes but amr is the tallest Expected Result:2)"
   ]
  },
  {
   "cell_type": "code",
   "execution_count": 39,
   "id": "uEcgR8By6vab",
   "metadata": {
    "id": "uEcgR8By6vab"
   },
   "outputs": [
    {
     "name": "stdout",
     "output_type": "stream",
     "text": [
      "{'amr': 0, 'and': 0, 'ahmed': 0, 'are': 0, 'frindes': 0, 'but': 0, 'is': 0, 'the': 0, 'tallest': 0}\n",
      "{'amr': 2, 'and': 1, 'ahmed': 1, 'are': 1, 'frindes': 1, 'but': 1, 'is': 1, 'the': 1, 'tallest': 1}\n",
      "Result:2\n"
     ]
    }
   ],
   "source": [
    "sample = \"amr and ahmed are frindes but amr is the tallest\"\n",
    "sample = sample.split()\n",
    "\n",
    "result = {}\n",
    "for i in sample:\n",
    "    result[i] = 0\n",
    "print(result)\n",
    "\n",
    "for i in sample:\n",
    "    result[i]+=1\n",
    "print(result)\n",
    "\n",
    "print(f\"Result:{max(result.values())}\")"
   ]
  },
  {
   "cell_type": "markdown",
   "id": "4e8125f1",
   "metadata": {
    "id": "4e8125f1"
   },
   "source": [
    "**8-Write a Python script that takes input from the user and displays that input back in upper and lower cases"
   ]
  },
  {
   "cell_type": "code",
   "execution_count": 52,
   "id": "66c8f778",
   "metadata": {
    "colab": {
     "base_uri": "https://localhost:8080/"
    },
    "id": "66c8f778",
    "outputId": "6acd28b4-01c5-4247-dfcf-3ce71d70694f"
   },
   "outputs": [
    {
     "name": "stdout",
     "output_type": "stream",
     "text": [
      "AHmeD\n",
      "upper case: AHMED\n",
      "lower case: ahmed\n"
     ]
    }
   ],
   "source": [
    "from logging import raiseExceptions\n",
    "word = input()\n",
    "\n",
    "if word.isalpha():\n",
    "  print(f\"upper case: {word.upper()}\")\n",
    "  print(f\"lower case: {word.lower()}\")\n",
    "else:\n",
    "  raise ValueError(\"please enter letters only:\")"
   ]
  },
  {
   "cell_type": "markdown",
   "id": "fcd68aa1",
   "metadata": {
    "id": "fcd68aa1"
   },
   "source": [
    "\n",
    "**9-Write a Python function to reverse a string if its length is a multiple of 4"
   ]
  },
  {
   "cell_type": "code",
   "execution_count": 55,
   "id": "0671a931",
   "metadata": {
    "colab": {
     "base_uri": "https://localhost:8080/"
    },
    "id": "0671a931",
    "outputId": "cfe0b770-a51e-4937-8c19-a03ae7aecd03"
   },
   "outputs": [
    {
     "name": "stdout",
     "output_type": "stream",
     "text": [
      "emha\n"
     ]
    }
   ],
   "source": [
    "def reverse(str_):\n",
    "  if len(str_) % 4 == 0:\n",
    "    str_ = str_[::-1]\n",
    "    print(str_)\n",
    "  else:\n",
    "    print(str_)\n",
    "\n",
    "reverse(\"ahme\")"
   ]
  },
  {
   "cell_type": "markdown",
   "id": "b577c68d",
   "metadata": {
    "id": "b577c68d"
   },
   "source": [
    "**10- Write a Python program to remove a newline in Python"
   ]
  },
  {
   "cell_type": "code",
   "execution_count": 66,
   "id": "e0c6525a",
   "metadata": {
    "colab": {
     "base_uri": "https://localhost:8080/",
     "height": 35
    },
    "id": "e0c6525a",
    "outputId": "41c0d96b-59b2-46db-c329-9924fbb8e771"
   },
   "outputs": [
    {
     "data": {
      "application/vnd.google.colaboratory.intrinsic+json": {
       "type": "string"
      },
      "text/plain": [
       "' welcome toInstantAi course'"
      ]
     },
     "execution_count": 66,
     "metadata": {},
     "output_type": "execute_result"
    }
   ],
   "source": [
    "sen = \"\"\" welcome to\n",
    "Instant\n",
    "Ai course\n",
    "\"\"\"\n",
    "new_sen=\"\"\n",
    "for i in sen:\n",
    "  if i =='\\n':\n",
    "    continue\n",
    "  new_sen+=i\n",
    "\n",
    "new_sen"
   ]
  },
  {
   "cell_type": "markdown",
   "id": "80db5ae0",
   "metadata": {
    "id": "80db5ae0"
   },
   "source": [
    "**11-Write a Python program to check whether a string starts with specified characters"
   ]
  },
  {
   "cell_type": "code",
   "execution_count": 62,
   "id": "0cc4e03e",
   "metadata": {
    "id": "0cc4e03e"
   },
   "outputs": [
    {
     "name": "stdout",
     "output_type": "stream",
     "text": [
      "True\n"
     ]
    }
   ],
   "source": [
    "def Start_with(str_, char):\n",
    "    if str_[0] == char:\n",
    "        print(True)\n",
    "    else:\n",
    "        print(False)\n",
    "Start_with(\"Instant\", \"I\")"
   ]
  },
  {
   "cell_type": "markdown",
   "id": "593a68db",
   "metadata": {
    "id": "593a68db"
   },
   "source": [
    "**12- Write a Python program to add prefix text to all of the lines in a string"
   ]
  },
  {
   "cell_type": "code",
   "execution_count": 57,
   "id": "d2e46ada",
   "metadata": {
    "id": "d2e46ada"
   },
   "outputs": [
    {
     "name": "stdin",
     "output_type": "stream",
     "text": [
      " Ahmed Elsaid Slama\n"
     ]
    },
    {
     "name": "stdout",
     "output_type": "stream",
     "text": [
      ">Ahmed\n",
      ">Elsaid\n",
      ">Slama\n"
     ]
    }
   ],
   "source": [
    "str_ = input().split()\n",
    "\n",
    "for i in str_:\n",
    "    word = \">\"+i\n",
    "    print(word)"
   ]
  },
  {
   "cell_type": "markdown",
   "id": "86fa1543",
   "metadata": {
    "id": "86fa1543"
   },
   "source": [
    "**13-Write a Python program to print the following numbers up to 2 decimal places"
   ]
  },
  {
   "cell_type": "code",
   "execution_count": 65,
   "id": "cd4a9d89",
   "metadata": {
    "colab": {
     "base_uri": "https://localhost:8080/"
    },
    "id": "cd4a9d89",
    "outputId": "4f633b6d-3ba9-426b-a268-2ee3e051f47d"
   },
   "outputs": [
    {
     "name": "stdout",
     "output_type": "stream",
     "text": [
      " 3.22\n"
     ]
    }
   ],
   "source": [
    "num = 3.215648\n",
    "print(f\"{num : 0.2f}\")"
   ]
  },
  {
   "cell_type": "markdown",
   "id": "452c0ab0",
   "metadata": {
    "id": "452c0ab0"
   },
   "source": [
    "**14-Write a Python program to print the following numbers up to 2 decimal places with a sign"
   ]
  },
  {
   "cell_type": "code",
   "execution_count": 66,
   "id": "73e82479",
   "metadata": {
    "id": "73e82479"
   },
   "outputs": [
    {
     "name": "stdin",
     "output_type": "stream",
     "text": [
      " 3.215648\n"
     ]
    },
    {
     "name": "stdout",
     "output_type": "stream",
     "text": [
      "3.22\n"
     ]
    }
   ],
   "source": [
    "import numpy as np\n",
    "num = float(input())\n",
    "print(f'{np.round(num,2)}')"
   ]
  },
  {
   "cell_type": "markdown",
   "id": "32b1811a",
   "metadata": {
    "id": "32b1811a"
   },
   "source": [
    "**15-Write a Python program to display a number with a comma separator"
   ]
  },
  {
   "cell_type": "code",
   "execution_count": 77,
   "id": "f30fc0b6",
   "metadata": {
    "colab": {
     "base_uri": "https://localhost:8080/"
    },
    "id": "f30fc0b6",
    "outputId": "c6feecd7-51ef-489e-e8bc-3584457d4f4a"
   },
   "outputs": [
    {
     "name": "stdout",
     "output_type": "stream",
     "text": [
      "1,2,3,4,5,5,6,\n"
     ]
    }
   ],
   "source": [
    "nums = 1234556\n",
    "new_num = \"\"\n",
    "for i in str(nums):\n",
    "  new_num+=i+','\n",
    "print(new_num)"
   ]
  },
  {
   "cell_type": "markdown",
   "id": "0477f487",
   "metadata": {
    "id": "0477f487"
   },
   "source": [
    "**16-Write a Python program to reverse a string using 2 ways"
   ]
  },
  {
   "cell_type": "code",
   "execution_count": 80,
   "id": "aa8beec8",
   "metadata": {
    "colab": {
     "base_uri": "https://localhost:8080/"
    },
    "id": "aa8beec8",
    "outputId": "d51662bc-a5ef-483f-8426-6819e7633b18"
   },
   "outputs": [
    {
     "name": "stdout",
     "output_type": "stream",
     "text": [
      "Dr. Mostafa Mahmoud\n",
      "duomhaM afatsoM .rD\n",
      "duomhaM afatsoM .rD\n"
     ]
    }
   ],
   "source": [
    "word = input()\n",
    "\n",
    "#first method\n",
    "print(word[::-1])\n",
    "\n",
    "#second method\n",
    "reversed_word = \"\"\n",
    "\n",
    "i=len(word)-1\n",
    "while(i>=0):\n",
    "  reversed_word+=word[i]\n",
    "  i-=1\n",
    "print(reversed_word)"
   ]
  },
  {
   "cell_type": "markdown",
   "id": "5afc3166",
   "metadata": {
    "id": "5afc3166"
   },
   "source": [
    " **17-Write a Python program to count repeated characters in a string (hint:use dictionary)"
   ]
  },
  {
   "cell_type": "code",
   "execution_count": 10,
   "id": "515a469c",
   "metadata": {
    "id": "515a469c"
   },
   "outputs": [
    {
     "name": "stdout",
     "output_type": "stream",
     "text": [
      "{'r': 3, 'e': 4, 'p': 1, 'a': 3, 't': 2, 'd': 1, ' ': 1, 'c': 2, 'h': 1, 's': 1}\n",
      "4\n"
     ]
    }
   ],
   "source": [
    "word = \"repeated characters\"\n",
    "counts = {}\n",
    "for i in word:\n",
    "    counts[i] = 0\n",
    "for j in word:\n",
    "    counts[j]+=1\n",
    "\n",
    "print(counts)\n",
    "print(counts['e'])"
   ]
  },
  {
   "cell_type": "markdown",
   "id": "ae14e4e5",
   "metadata": {
    "id": "ae14e4e5"
   },
   "source": [
    "**18-Write a Python program to find the first non-repeating character in a given string"
   ]
  },
  {
   "cell_type": "code",
   "execution_count": 11,
   "id": "d73778e5",
   "metadata": {
    "id": "d73778e5"
   },
   "outputs": [
    {
     "name": "stdout",
     "output_type": "stream",
     "text": [
      "p\n"
     ]
    }
   ],
   "source": [
    "for i in word:\n",
    "    if counts[i] == 1:\n",
    "        print(i)\n",
    "        break"
   ]
  },
  {
   "cell_type": "markdown",
   "id": "3adf5669",
   "metadata": {
    "id": "3adf5669"
   },
   "source": [
    "**19-Write a Python program to remove spaces from a given string"
   ]
  },
  {
   "cell_type": "code",
   "execution_count": 12,
   "id": "b4f22602",
   "metadata": {
    "id": "b4f22602"
   },
   "outputs": [
    {
     "name": "stdout",
     "output_type": "stream",
     "text": [
      "AhmedElsaidSlama\n"
     ]
    }
   ],
   "source": [
    "word = \"Ahmed Elsaid Slama\"\n",
    "result = \"\"\n",
    "for i in word:\n",
    "    if i == \" \":\n",
    "        continue\n",
    "    result+=i\n",
    "print(result)"
   ]
  },
  {
   "cell_type": "markdown",
   "id": "734de60c",
   "metadata": {
    "id": "734de60c"
   },
   "source": [
    "**20-Write a Python program to count the number of non-empty substrings of a given string"
   ]
  },
  {
   "cell_type": "code",
   "execution_count": 40,
   "id": "ef3f2274",
   "metadata": {
    "id": "ef3f2274"
   },
   "outputs": [
    {
     "data": {
      "text/plain": [
       "15"
      ]
     },
     "execution_count": 40,
     "metadata": {},
     "output_type": "execute_result"
    }
   ],
   "source": [
    "def substr(string):\n",
    "    len_str = len(string)\n",
    "    return int(len_str*(len_str+1)/2)\n",
    "\n",
    "substr(\"Ahmed\")"
   ]
  },
  {
   "cell_type": "markdown",
   "id": "509998e2",
   "metadata": {
    "id": "509998e2"
   },
   "source": [
    "**21-write a Python program to swap first and last element of any list."
   ]
  },
  {
   "cell_type": "code",
   "execution_count": 8,
   "id": "68692d7f",
   "metadata": {
    "id": "68692d7f"
   },
   "outputs": [
    {
     "name": "stdout",
     "output_type": "stream",
     "text": [
      "[10, 1, 2, 3, 4, 5, 6, 7, 8, 9, 0]\n"
     ]
    }
   ],
   "source": [
    "element = [i for i in range(11)]\n",
    "\n",
    "element[0], element[-1]  = element[-1], element[0]\n",
    "print(element)"
   ]
  },
  {
   "cell_type": "markdown",
   "id": "959e0837",
   "metadata": {
    "id": "959e0837"
   },
   "source": [
    "**22-Given a list in Python and provided the positions of the elements, write a program to swap the two elements in the list. (Input : List = [23, 65, 19, 90], pos1 = 1, pos2 = 3\n",
    "Output : [19, 65, 23, 90])"
   ]
  },
  {
   "cell_type": "code",
   "execution_count": 4,
   "id": "225d8c6d",
   "metadata": {
    "id": "225d8c6d"
   },
   "outputs": [
    {
     "data": {
      "text/plain": [
       "[19, 65, 23, 90]"
      ]
     },
     "execution_count": 4,
     "metadata": {},
     "output_type": "execute_result"
    }
   ],
   "source": [
    "def swap(list_, *Args):\n",
    "    list_ = list_\n",
    "    for i in range(len(list_)):\n",
    "        if i == Args[0] or i == Args[1]:\n",
    "            continue\n",
    "        else:\n",
    "            list_[i] , list_[i+2] = list_[i+2] , list_[i]\n",
    "            break\n",
    "    return list_\n",
    "    \n",
    "swap([23, 65, 19, 90], 1, 3)"
   ]
  },
  {
   "cell_type": "markdown",
   "id": "66fc6682",
   "metadata": {
    "id": "66fc6682"
   },
   "source": [
    "**23- search for the all ways to know the length of the list"
   ]
  },
  {
   "cell_type": "code",
   "execution_count": 13,
   "id": "d51961dd-bffc-4cd0-9de1-b1d035ded059",
   "metadata": {},
   "outputs": [
    {
     "name": "stdout",
     "output_type": "stream",
     "text": [
      "20\n",
      "20\n",
      "20\n"
     ]
    },
    {
     "data": {
      "text/plain": [
       "20"
      ]
     },
     "execution_count": 13,
     "metadata": {},
     "output_type": "execute_result"
    }
   ],
   "source": [
    "ls = [i for i in range(1,21)]\n",
    "\n",
    "#method1\n",
    "print(len(ls))\n",
    "\n",
    "#method2\n",
    "sum_ = 0\n",
    "for i in range(len(ls)):\n",
    "    sum_+=1\n",
    "len_list = sum_\n",
    "print(len_list)\n",
    "\n",
    "#method3\n",
    "length = ls.index(ls[-1])+1\n",
    "print(length)\n",
    "\n",
    "#method4 using recursion\n",
    "def len_(list_):\n",
    "    if list_ == []:\n",
    "        return 0\n",
    "    else:\n",
    "        return 1+len_(list_[1:])\n",
    "len_(ls)"
   ]
  },
  {
   "cell_type": "markdown",
   "id": "95f5d9df-4447-4880-8514-9308e099b9f9",
   "metadata": {
    "id": "63ff8b43"
   },
   "source": [
    "**24-write a Python code to find the Maximum number of list of numbers."
   ]
  },
  {
   "cell_type": "code",
   "execution_count": 26,
   "id": "15f342de",
   "metadata": {
    "id": "15f342de"
   },
   "outputs": [
    {
     "data": {
      "text/plain": [
       "25"
      ]
     },
     "execution_count": 26,
     "metadata": {},
     "output_type": "execute_result"
    }
   ],
   "source": [
    "# maximum number using recursion function\n",
    "l = [2,6,9,3,25,5,3,1]\n",
    "def find_max(list_):\n",
    "    i = 0\n",
    "    j = i+1\n",
    "    while (j<len(list_)):\n",
    "        if list_[i] < list_[j]:\n",
    "            return find_max(list_[j:])\n",
    "        else:\n",
    "            j+=1\n",
    "    return list_[i]\n",
    "    \n",
    "find_max(l)"
   ]
  },
  {
   "cell_type": "markdown",
   "id": "369e4530-47c1-4095-a565-3a8a0c8e5418",
   "metadata": {
    "id": "1a89b9d3"
   },
   "source": [
    "** m-write a Python code to find the Minimum number of list of numbers."
   ]
  },
  {
   "cell_type": "code",
   "execution_count": 6,
   "id": "21f8cbd6",
   "metadata": {
    "id": "21f8cbd6"
   },
   "outputs": [
    {
     "name": "stdout",
     "output_type": "stream",
     "text": [
      "the Minimum number of list: 1\n"
     ]
    }
   ],
   "source": [
    "ls_ = [2,5,6,3,4,9,2,36,1,98]\n",
    "def sort(ls_):\n",
    "    if len(ls_) <= 1:\n",
    "        return ls_\n",
    "    else:\n",
    "        mid = ls_[len(ls_)//2]\n",
    "        left  = [i for i in ls_ if i < mid]\n",
    "        right = [i for i in ls_ if i > mid]\n",
    "        return sort(left)+[mid]+sort(right)\n",
    "        \n",
    "ls_ = sort(ls_)\n",
    "print(f\"the Minimum number of list: {ls_[0]}\")"
   ]
  },
  {
   "cell_type": "code",
   "execution_count": 31,
   "id": "48961642-7b79-451e-9954-b925c388b092",
   "metadata": {},
   "outputs": [
    {
     "data": {
      "text/plain": [
       "1"
      ]
     },
     "execution_count": 31,
     "metadata": {},
     "output_type": "execute_result"
    }
   ],
   "source": [
    "# minimum number using recursion function\n",
    "l = [2,6,9,3,25,5,3,1]\n",
    "def find_min(list_):\n",
    "    i = 0\n",
    "    j = i+1\n",
    "    while (j<len(list_)):\n",
    "        if list_[i] < list_[j]:\n",
    "            j+=1\n",
    "        else:\n",
    "            return find_max(list_[j:])\n",
    "    return list_[i]\n",
    "    \n",
    "find_min(l)"
   ]
  },
  {
   "cell_type": "markdown",
   "id": "96822d96",
   "metadata": {
    "id": "96822d96"
   },
   "source": [
    "**26-search for if an elem is existing in list"
   ]
  },
  {
   "cell_type": "code",
   "execution_count": 7,
   "id": "51ca5c9a",
   "metadata": {
    "id": "51ca5c9a"
   },
   "outputs": [
    {
     "name": "stdout",
     "output_type": "stream",
     "text": [
      "75\n"
     ]
    }
   ],
   "source": [
    "def Search(ls_, n):\n",
    "    low  = 0\n",
    "    high = len(ls_) \n",
    "    mid  = (low+high)//2\n",
    "\n",
    "    if n in ls_:\n",
    "        while (n >= low):\n",
    "            if n > ls_[mid]:\n",
    "                low = mid+1\n",
    "                mid = (low+high)//2\n",
    "            elif n < ls_[mid]:\n",
    "                high = mid-1\n",
    "                mid  = (low+high)//2\n",
    "            else:\n",
    "                print(ls_[mid])\n",
    "                break\n",
    "    else:\n",
    "        raise ValueError(\"list index out of range:(\")\n",
    "\n",
    "Search([i for i in range(101)], 75)"
   ]
  },
  {
   "cell_type": "markdown",
   "id": "d9557da7",
   "metadata": {
    "id": "d9557da7"
   },
   "source": [
    "**27- clear python list using different ways"
   ]
  },
  {
   "cell_type": "code",
   "execution_count": 14,
   "id": "b69858a3",
   "metadata": {
    "id": "b69858a3"
   },
   "outputs": [
    {
     "name": "stdout",
     "output_type": "stream",
     "text": [
      "[]\n",
      "[]\n",
      "[]\n"
     ]
    }
   ],
   "source": [
    "#Using the clear() funcitoin\n",
    "list_ = [23, 65, 19, 90]\n",
    "list_.clear()\n",
    "print(list_)\n",
    "\n",
    "#Reinitializing the list\n",
    "list_ = [23, 65, 19, 90]\n",
    "list_ = []\n",
    "print(list_)\n",
    "\n",
    "#Multiply by zero\n",
    "list_ = [23, 65, 19, 90]\n",
    "list_ *= 0\n",
    "print(list_)\n",
    "\n",
    "#Using del keyword  \n",
    "list_ = [23, 65, 19, 90]\n",
    "del list_"
   ]
  },
  {
   "cell_type": "markdown",
   "id": "52160e88",
   "metadata": {
    "id": "52160e88"
   },
   "source": [
    "**28-remove duplicated elements from a list"
   ]
  },
  {
   "cell_type": "code",
   "execution_count": 16,
   "id": "5e362228",
   "metadata": {
    "id": "5e362228"
   },
   "outputs": [
    {
     "name": "stdout",
     "output_type": "stream",
     "text": [
      "[1, 2, 3, 4, 5]\n"
     ]
    }
   ],
   "source": [
    "lst_ = [1,1,2,3,3,4,5,5]\n",
    "lst_ = list(set(lst_))\n",
    "print(lst_)"
   ]
  },
  {
   "cell_type": "markdown",
   "id": "282337f7",
   "metadata": {
    "id": "282337f7"
   },
   "source": [
    "**29-Given list values and keys list, convert these values to key value pairs in form of list of dictionaries. (Input : test_list = [“Gfg”, 3, “is”, 8], key_list = [“name”, “id”]\n",
    "Output : [{‘name’: ‘Gfg’, ‘id’: 3}, {‘name’: ‘is’, ‘id’: 8}])"
   ]
  },
  {
   "cell_type": "code",
   "execution_count": 42,
   "id": "9e109cbf-dcee-482b-9439-919f0e394a96",
   "metadata": {},
   "outputs": [
    {
     "name": "stdout",
     "output_type": "stream",
     "text": [
      "[{'name': 'Gfg', 'id': 3}, {'name': 'is', 'id': 8}]\n"
     ]
    }
   ],
   "source": [
    "test = [\"Gfg\", 3, \"is\", 8]\n",
    "key_list = [\"name\", \"id\"]\n",
    "\n",
    "result = []\n",
    "new_test_list = []\n",
    "for i in range(0,len(test),len(key_list)):\n",
    "    new_test_list.append(test[i:i+2])\n",
    "\n",
    "for i in new_test_list:\n",
    "    dict_ = {}\n",
    "    for k,v in zip(key_list,i):\n",
    "        dict_[k] = v\n",
    "    result.append(dict_)\n",
    "\n",
    "print(result)"
   ]
  },
  {
   "cell_type": "markdown",
   "id": "c26b6e9f",
   "metadata": {
    "id": "c26b6e9f"
   },
   "source": [
    "**30-write a python program to count unique values inside a list using different ways"
   ]
  },
  {
   "cell_type": "code",
   "execution_count": 46,
   "id": "72132667",
   "metadata": {
    "id": "72132667"
   },
   "outputs": [
    {
     "name": "stdout",
     "output_type": "stream",
     "text": [
      "7\n",
      "7\n",
      "7\n"
     ]
    }
   ],
   "source": [
    "ls = [1,2,2,3,4,4,4,5,6,6,7]\n",
    "\n",
    "#method1\n",
    "print(len(set(ls)))\n",
    "\n",
    "#method2\n",
    "count = {}\n",
    "for i in ls:\n",
    "    count[i] = 0\n",
    "print(len(count))\n",
    "\n",
    "#method3\n",
    "unique_list = []\n",
    "for i in ls:\n",
    "    if i not in unique_list:\n",
    "        unique_list.append(i)\n",
    "print(len(unique_list))"
   ]
  },
  {
   "cell_type": "markdown",
   "id": "fed6677c",
   "metadata": {
    "id": "fed6677c"
   },
   "source": [
    "**31-write a python program Extract all elements with Frequency greater than K (Input : test_list = [4, 6, 4, 3, 3, 4, 3, 4, 3, 8], K = 3\n",
    "Output : [4, 3] )"
   ]
  },
  {
   "cell_type": "code",
   "execution_count": 46,
   "id": "d81f3f9d",
   "metadata": {
    "id": "d81f3f9d"
   },
   "outputs": [
    {
     "name": "stdout",
     "output_type": "stream",
     "text": [
      "[3, 4]\n"
     ]
    }
   ],
   "source": [
    "test_list = [4, 6, 4, 3, 3, 4, 3, 4, 3, 8]\n",
    "Farr = [0]*(max(test_list)+1)\n",
    "\n",
    "def frq(list_, k):\n",
    "    for i in range(len(test_list)):\n",
    "        Farr[test_list[i]]+=1\n",
    "\n",
    "    Output = []\n",
    "    for i in range(len(Farr)):\n",
    "        if Farr[i] > k:\n",
    "            Output.append(i)\n",
    "\n",
    "    print(Output)\n",
    "\n",
    "frq(test_list, 3)"
   ]
  },
  {
   "cell_type": "markdown",
   "id": "caca5224",
   "metadata": {
    "id": "caca5224"
   },
   "source": [
    "**32-write a python program to find the Strongest Neighbour (Input: 1 2 2 3 4 5\n",
    "Output: 2 2 3 4 5)"
   ]
  },
  {
   "cell_type": "code",
   "execution_count": 21,
   "id": "39fbd9b2",
   "metadata": {
    "id": "39fbd9b2"
   },
   "outputs": [
    {
     "name": "stdout",
     "output_type": "stream",
     "text": [
      "[2, 2, 3, 4, 5]\n"
     ]
    }
   ],
   "source": [
    "lst_ = [1, 2, 2, 3, 4, 5]\n",
    "Neighbour = []\n",
    "for i in range(len(lst_)-1):\n",
    "    Neighbour.append(lst_[i+1])\n",
    "print(Neighbour)"
   ]
  },
  {
   "cell_type": "markdown",
   "id": "a9fa8baf",
   "metadata": {
    "id": "a9fa8baf"
   },
   "source": [
    "**33-write a Python Program to print all Possible Combinations from the three Digits (Input: [1, 2, 3]\n",
    "Output:\n",
    "1 2 3 ##\n",
    "1 3 2 ##\n",
    "2 1 3 ##\n",
    "2 3 1 ##\n",
    "3 1 2 ##\n",
    "3 2 1)"
   ]
  },
  {
   "cell_type": "code",
   "execution_count": 16,
   "id": "8c520a76",
   "metadata": {
    "id": "8c520a76"
   },
   "outputs": [
    {
     "name": "stdout",
     "output_type": "stream",
     "text": [
      "[1, 2, 3]\n",
      "[1, 3, 2]\n",
      "[3, 1, 2]\n",
      "[2, 1, 3]\n",
      "[2, 3, 1]\n",
      "[3, 2, 1]\n"
     ]
    }
   ],
   "source": [
    "Input = [1, 2, 3]\n",
    "\n",
    "i = len(Input)*2\n",
    "j = len(Input)-1\n",
    "while(i > 0):\n",
    "    print(Input)\n",
    "    if j < -(len(Input)-1):\n",
    "        break\n",
    "    Input[j], Input[j-1] = Input[j-1], Input[j]\n",
    "    j-=1\n",
    "    i-=1"
   ]
  },
  {
   "cell_type": "markdown",
   "id": "5288bb89",
   "metadata": {
    "id": "5288bb89"
   },
   "source": [
    "**34-write a Python program to find all the Combinations in the list with the given condition (Input: test_list = [1,2,3]\n",
    "Output:\n",
    " [1], [1, 2], [1, 2, 3], [1, 3]\n",
    " [2], [2, 3], [3])"
   ]
  },
  {
   "cell_type": "code",
   "execution_count": 60,
   "id": "59b89646",
   "metadata": {
    "id": "59b89646"
   },
   "outputs": [
    {
     "name": "stdout",
     "output_type": "stream",
     "text": [
      "[1]\n",
      "[1, 2]\n",
      "[1, 2, 3]\n",
      "[1, 3]\n",
      "[2]\n",
      "[2, 3]\n",
      "[3]\n"
     ]
    }
   ],
   "source": [
    "test_list = [1,2,3]\n",
    "for i in range(0,len(test_list)):\n",
    "    print([test_list[i]])\n",
    "    for j in range(i+1, len(test_list)):\n",
    "        print(test_list[i:j+1])\n",
    "\n",
    "        if j == len(test_list)-1 and i==0:\n",
    "            print([test_list[i],test_list[-1]])"
   ]
  },
  {
   "cell_type": "markdown",
   "id": "39973705",
   "metadata": {
    "id": "39973705"
   },
   "source": [
    "**35-write a Python program to get all unique combinations of two Lists (List_1 = [\"a\",\"b\"]\n",
    "List_2 = [1,2]\n",
    "Unique_combination = [[('a',1),('b',2)],[('a',2),('b',1)]] )"
   ]
  },
  {
   "cell_type": "code",
   "execution_count": 68,
   "id": "8c4ba22b",
   "metadata": {
    "id": "8c4ba22b"
   },
   "outputs": [
    {
     "data": {
      "text/plain": [
       "[('a', 1), ('a', 2), ('b', 1), ('b', 2)]"
      ]
     },
     "execution_count": 68,
     "metadata": {},
     "output_type": "execute_result"
    }
   ],
   "source": [
    "List_1 = [\"a\",\"b\"] \n",
    "List_2 = [1,2]\n",
    "\n",
    "result = [(i,j) for i in List_1 for j in List_2]\n",
    "result"
   ]
  },
  {
   "cell_type": "markdown",
   "id": "25199af5",
   "metadata": {
    "id": "25199af5"
   },
   "source": [
    "**36-Remove all the occurrences of an element from a list in Python (Input : 1 1 2 3 4 5 1 2 1\n",
    "\n",
    "**Output : 2 3 4 5 2)"
   ]
  },
  {
   "cell_type": "code",
   "execution_count": 76,
   "id": "6dc4c2ba",
   "metadata": {
    "id": "6dc4c2ba"
   },
   "outputs": [
    {
     "data": {
      "text/plain": [
       "[2, 3, 4, 5, 2]"
      ]
     },
     "execution_count": 76,
     "metadata": {},
     "output_type": "execute_result"
    }
   ],
   "source": [
    "input_list = [1,1,2,3,4,5,2,1]\n",
    "n = 1\n",
    "result = list(filter(lambda x: x != n, input_list))\n",
    "result"
   ]
  },
  {
   "cell_type": "markdown",
   "id": "bf1a3c93",
   "metadata": {
    "id": "bf1a3c93"
   },
   "source": [
    "**37-write a python program to Replace index elements with elements in Other List (The original list 1 is : [‘Gfg’, ‘is’, ‘best’] The original list 2 is : [0, 1, 2, 1, 0, 0, 0, 2, 1, 1, 2, 0] The lists after index elements replacements is : [‘Gfg’, ‘is’, ‘best’, ‘is’, ‘Gfg’, ‘Gfg’, ‘Gfg’, ‘best’, ‘is’, ‘is’, ‘best’, ‘Gfg’])"
   ]
  },
  {
   "cell_type": "code",
   "execution_count": 87,
   "id": "fdd66a71",
   "metadata": {
    "id": "fdd66a71"
   },
   "outputs": [
    {
     "name": "stdout",
     "output_type": "stream",
     "text": [
      "['Gfg', 'is', 'best', 'is', 'Gfg', 'Gfg', 'Gfg', 'best', 'is', 'is', 'best', 'Gfg']\n"
     ]
    }
   ],
   "source": [
    "list_1 = [\"Gfg\", \"is\", \"best\"]\n",
    "list_2 = [0, 1, 2, 1, 0, 0, 0, 2, 1, 1, 2, 0]\n",
    "\n",
    "for i in range(len(list_2)):\n",
    "    list_2[i] = list_1[list_2[i]]\n",
    "\n",
    "print(list_2)"
   ]
  },
  {
   "cell_type": "markdown",
   "id": "af0f56e8",
   "metadata": {
    "id": "af0f56e8"
   },
   "source": [
    "**38- write python program to Retain records with N occurrences of K(Input : test_list = [(4, 5, 5, 4), (5, 4, 3)], K = 5, N = 2\n",
    "Output : [(4, 5, 5, 4)]\n",
    "Input : test_list = [(4, 5, 5, 4), (5, 4, 3)], K = 5, N = 3\n",
    "Output : [] )"
   ]
  },
  {
   "cell_type": "code",
   "execution_count": 105,
   "id": "67b06671",
   "metadata": {
    "id": "67b06671"
   },
   "outputs": [
    {
     "name": "stdout",
     "output_type": "stream",
     "text": [
      "(4, 5, 5, 4)\n"
     ]
    }
   ],
   "source": [
    "test_list = [(4, 5, 5, 4), (5, 4, 3)]\n",
    "k = 5\n",
    "N = 2\n",
    "\n",
    "global sum_\n",
    "for i in test_list:\n",
    "    sum_ = 0\n",
    "    for j in i:\n",
    "        if j == k:\n",
    "            sum_+=1\n",
    "            \n",
    "        if sum_ == N:\n",
    "            print(i)\n",
    "            break"
   ]
  },
  {
   "cell_type": "markdown",
   "id": "de76f183",
   "metadata": {
    "id": "de76f183"
   },
   "source": [
    "**39-write a Python Program to Sort the list according to the column using lambda\n",
    "array = [[1, 3, 3], [2, 1, 2], [3, 2, 1]]\n",
    "Output :\n",
    "Sorted array specific to column 0, [[1, 3, 3], [2, 1, 2], [3, 2, 1]]\n",
    "Sorted array specific to column 1, [[2, 1, 2], [3, 2, 1], [1, 3, 3]]\n",
    "Sorted array specific to column 2, [[3, 2, 1], [2, 1, 2], [1, 3, 3]]"
   ]
  },
  {
   "cell_type": "code",
   "execution_count": 82,
   "id": "dc883308",
   "metadata": {
    "id": "dc883308"
   },
   "outputs": [
    {
     "name": "stdout",
     "output_type": "stream",
     "text": [
      "Sorted array specific to column 0, [[1, 3, 3], [2, 1, 2], [3, 2, 1]]\n",
      "Sorted array specific to column 1, [[2, 1, 2], [3, 2, 1], [1, 3, 3]]\n",
      "Sorted array specific to column 2, [[3, 2, 1], [2, 1, 2], [1, 3, 3]]\n"
     ]
    }
   ],
   "source": [
    "#Solved with the some help of AI\n",
    "\n",
    "array = [[1, 3, 3], [2, 1, 2], [3, 2, 1]]\n",
    "\n",
    "def sort_by_column(array, col):\n",
    "    return sorted(array, key=lambda x: x[col])\n",
    "\n",
    "num_columns = len(array[0])\n",
    "for col in range(num_columns):\n",
    "    sorted_array = sort_by_column(array, col)\n",
    "    print(f\"Sorted array specific to column {col}, {sorted_array}\")"
   ]
  },
  {
   "cell_type": "markdown",
   "id": "c0c43cf0-2237-40cb-8298-02b497882869",
   "metadata": {
    "id": "d2e7b31f"
   },
   "source": [
    "**40- write a program to Sort Python Dictionaries by Key or Value\n",
    "Input:\n",
    "{'ravi': 10, 'rajnish': 9, 'sanjeev': 15, 'yash': 2, 'suraj': 32}\n",
    "\n",
    "Output:\n",
    "{'rajnish': 9, 'ravi': 10, 'sanjeev': 15, 'suraj': 32, 'yash': 2}"
   ]
  },
  {
   "cell_type": "code",
   "execution_count": 76,
   "id": "a96db4a0",
   "metadata": {
    "id": "a96db4a0"
   },
   "outputs": [
    {
     "data": {
      "text/plain": [
       "{'yash': 2, 'rajnish': 9, 'ravi': 10, 'sanjeev': 15, 'suraj': 32}"
      ]
     },
     "execution_count": 76,
     "metadata": {},
     "output_type": "execute_result"
    }
   ],
   "source": [
    "#Solved with the some help of AI\n",
    "\n",
    "def sort_dict_by_value(input_dict):\n",
    "    return dict(sorted(input_dict.items(), key=lambda x: x[1]))\n",
    "\n",
    "sort_dict_by_value({'ravi': 10, 'rajnish': 9, 'sanjeev': 15, 'yash': 2, 'suraj': 32})"
   ]
  },
  {
   "cell_type": "markdown",
   "id": "ec63c23a",
   "metadata": {
    "id": "ec63c23a"
   },
   "source": [
    "**41-write python program to Remove keys with Values Greater than K ( Including mixed values )\n",
    "nput : test_dict = {‘Gfg’ : 3, ‘is’ : 7, ‘best’ : 10, ‘for’ : 6, ‘geeks’ : ‘CS’},\n",
    "K = 7\n",
    "Output : {‘Gfg’ : 3, ‘for’ : 6, ‘geeks’ : ‘CS’}"
   ]
  },
  {
   "cell_type": "code",
   "execution_count": 2,
   "id": "e39c3a40",
   "metadata": {
    "id": "e39c3a40"
   },
   "outputs": [
    {
     "name": "stdout",
     "output_type": "stream",
     "text": [
      "{'Gfg': 3, 'for': 6, 'geeks': 'CS'}\n"
     ]
    }
   ],
   "source": [
    "test_dict = {'Gfg' : 3, 'is' : 7, 'best' : 10, 'for' : 6, 'geeks' : 'CS'}\n",
    "def remove_keys(test_dict, k):\n",
    "    \n",
    "    for i in list(test_dict.keys()):\n",
    "        if type(test_dict[i]) is int:\n",
    "            if test_dict[i] >= 7:\n",
    "                test_dict.pop(i)\n",
    "    return test_dict\n",
    "\n",
    "print(remove_keys(test_dict, k=7))"
   ]
  },
  {
   "cell_type": "markdown",
   "id": "f143f0fe",
   "metadata": {
    "id": "f143f0fe"
   },
   "source": [
    "**42-Write a Python program to concatenate the following dictionaries to create a new one\n",
    "\n",
    "Sample Dictionary :\n",
    "dic1={1:10, 2:20}\n",
    "dic2={3:30, 4:40}\n",
    "dic3={5:50,6:60}\n",
    "Expected Result : {1: 10, 2: 20, 3: 30, 4: 40, 5: 50, 6: 60}"
   ]
  },
  {
   "cell_type": "code",
   "execution_count": 8,
   "id": "74ffdfea",
   "metadata": {
    "id": "74ffdfea"
   },
   "outputs": [
    {
     "name": "stdout",
     "output_type": "stream",
     "text": [
      "{1: 10, 2: 20, 3: 30, 4: 40, 5: 50, 6: 60}\n"
     ]
    }
   ],
   "source": [
    "dic1, dic2, dic3 = {1:10, 2:20}, {3:30, 4:40}, {5:50,6:60}\n",
    "result = {}\n",
    "\n",
    "for i in dic1, dic2, dic3:\n",
    "    for k,v in i.items():\n",
    "        result[k] = v\n",
    "print(result)"
   ]
  },
  {
   "cell_type": "markdown",
   "id": "fb04c93c",
   "metadata": {
    "id": "fb04c93c"
   },
   "source": [
    "**43-Write a Python program to iterate over dictionaries using for loops"
   ]
  },
  {
   "cell_type": "code",
   "execution_count": 76,
   "id": "6aebc470",
   "metadata": {
    "id": "6aebc470"
   },
   "outputs": [
    {
     "name": "stdout",
     "output_type": "stream",
     "text": [
      "Key:name --> Value:ahmed\n",
      "Key:id --> Value:180106\n",
      "Key:location --> Value:MitGhamr / Egypt\n"
     ]
    }
   ],
   "source": [
    "dict_ = {\"name\" : \"ahmed\",\n",
    "        \"id\" : 180106,\n",
    "        \"location\" : \"MitGhamr / Egypt\"}\n",
    "for k,v in dict_.items():\n",
    "    print(f\"Key:{k} --> Value:{v}\")"
   ]
  },
  {
   "cell_type": "markdown",
   "id": "5f491a9d",
   "metadata": {
    "id": "5f491a9d"
   },
   "source": [
    "**44- Write a Python script to merge two Python dictionaries"
   ]
  },
  {
   "cell_type": "code",
   "execution_count": 113,
   "id": "b8a14028",
   "metadata": {
    "id": "b8a14028"
   },
   "outputs": [
    {
     "name": "stdout",
     "output_type": "stream",
     "text": [
      "{'key1': 1, 'key2': 2, 'key3': 3, 'key4': 4, 'key5': 5, 'key6': 6}\n"
     ]
    }
   ],
   "source": [
    "dict_1 = {'key1' : 1,\n",
    "          'key2' : 2,\n",
    "          'key3' : 3}\n",
    "\n",
    "dict_2 = {'key4' : 4,\n",
    "          'key5' : 5,\n",
    "          'key6' : 6}\n",
    "\n",
    "result = {}\n",
    "for i in dict_1, dict_2:\n",
    "    for k, v in i.items():\n",
    "        result[k] = v\n",
    "print(result)"
   ]
  },
  {
   "cell_type": "markdown",
   "id": "216fc72d",
   "metadata": {
    "id": "216fc72d"
   },
   "source": [
    "**45-Write a Python program to get the maximum and minimum values of a dictionary values"
   ]
  },
  {
   "cell_type": "code",
   "execution_count": 117,
   "id": "90d23a33-24fe-42de-a1d4-447d0ea64fb5",
   "metadata": {},
   "outputs": [
    {
     "name": "stdout",
     "output_type": "stream",
     "text": [
      "max: 6\n",
      "min: 1\n"
     ]
    }
   ],
   "source": [
    "print(f'max: {max(result.values())}')\n",
    "print(f'min: {min(result.values())}')"
   ]
  },
  {
   "cell_type": "markdown",
   "id": "b6a53011",
   "metadata": {
    "id": "b6a53011"
   },
   "source": [
    "**46- Write a Python program to drop empty items from a given dictionary.\n",
    "Original Dictionary:\n",
    "{'c1': 'Red', 'c2': 'Green', 'c3': None}\n",
    "New Dictionary after dropping empty items:\n",
    "{'c1': 'Red', 'c2': 'Green'}"
   ]
  },
  {
   "cell_type": "code",
   "execution_count": 142,
   "id": "b5c6fecf",
   "metadata": {
    "id": "b5c6fecf"
   },
   "outputs": [
    {
     "name": "stdout",
     "output_type": "stream",
     "text": [
      "{'c1': 'Red', 'c2': 'Green'}\n"
     ]
    }
   ],
   "source": [
    "Dictionary = {'c1': 'Red', 'c2': 'Green', 'c3': None}\n",
    "for i in list(Dictionary.keys()):\n",
    "    if Dictionary[i] is None:\n",
    "        Dictionary.pop(i)\n",
    "        print(Dictionary)"
   ]
  },
  {
   "cell_type": "markdown",
   "id": "46d718c7",
   "metadata": {
    "id": "46d718c7"
   },
   "source": [
    "**47-Write a Python program to create a tuple of numbers and print one item"
   ]
  },
  {
   "cell_type": "code",
   "execution_count": 150,
   "id": "13216ff5",
   "metadata": {
    "id": "13216ff5"
   },
   "outputs": [
    {
     "data": {
      "text/plain": [
       "0"
      ]
     },
     "execution_count": 150,
     "metadata": {},
     "output_type": "execute_result"
    }
   ],
   "source": [
    "tuple_ = (i for i in range(11))\n",
    "next(iter(tuple_)) "
   ]
  },
  {
   "cell_type": "code",
   "execution_count": 151,
   "id": "19d2bba0-87d5-4463-b844-1db68cf30a09",
   "metadata": {},
   "outputs": [
    {
     "data": {
      "text/plain": [
       "1"
      ]
     },
     "execution_count": 151,
     "metadata": {},
     "output_type": "execute_result"
    }
   ],
   "source": [
    "next(iter(tuple_)) "
   ]
  },
  {
   "cell_type": "markdown",
   "id": "2be5b56b",
   "metadata": {
    "id": "2be5b56b"
   },
   "source": [
    "**48-Write a Python program to unpack a tuple into several variables"
   ]
  },
  {
   "cell_type": "code",
   "execution_count": 11,
   "id": "595f44be",
   "metadata": {
    "id": "595f44be"
   },
   "outputs": [
    {
     "name": "stdout",
     "output_type": "stream",
     "text": [
      "(2, 4, 6, 8, 10)\n",
      "2\n",
      "4\n"
     ]
    }
   ],
   "source": [
    "tuple_ = 2,4,6,8,10\n",
    "print(tuple_)\n",
    "\n",
    "n1, n2, n3, n4, n5 = tuple_\n",
    "print(n1)\n",
    "print(n2)"
   ]
  },
  {
   "cell_type": "markdown",
   "id": "392388a7",
   "metadata": {
    "id": "392388a7"
   },
   "source": [
    "**49-Write a Python program to add an item to a tuple"
   ]
  },
  {
   "cell_type": "code",
   "execution_count": 12,
   "id": "54cc092e",
   "metadata": {
    "id": "54cc092e"
   },
   "outputs": [
    {
     "name": "stdout",
     "output_type": "stream",
     "text": [
      "(2, 4, 6, 8, 10, 15)\n"
     ]
    }
   ],
   "source": [
    "new_tuple = tuple_ + (15,)\n",
    "print(new_tuple)"
   ]
  },
  {
   "cell_type": "markdown",
   "id": "3e8fd124",
   "metadata": {
    "id": "3e8fd124"
   },
   "source": [
    "**50-Write a Python program to convert a tuple to a string"
   ]
  },
  {
   "cell_type": "code",
   "execution_count": 72,
   "id": "3f4dc3a5-3026-4bc8-84cc-c64a1f0f975c",
   "metadata": {},
   "outputs": [
    {
     "name": "stdout",
     "output_type": "stream",
     "text": [
      "<class 'str'>\n"
     ]
    }
   ],
   "source": [
    "name = (\"a\",\"h\",\"m\",\"e\",\"d\")\n",
    "name = str(name)\n",
    "print(type(name))"
   ]
  },
  {
   "cell_type": "code",
   "execution_count": 73,
   "id": "92a71ddc",
   "metadata": {
    "id": "92a71ddc"
   },
   "outputs": [
    {
     "name": "stdout",
     "output_type": "stream",
     "text": [
      "('a', 'h', 'm', 'e', 'd')\n",
      "<class 'tuple'>\n",
      "ahmed\n",
      "<class 'str'>\n"
     ]
    }
   ],
   "source": [
    "name = (\"a\",\"h\",\"m\",\"e\",\"d\")\n",
    "print(name)\n",
    "print(type(name))\n",
    "\n",
    "word = \"\"\n",
    "for i in name:\n",
    "    word+=i\n",
    "name=word\n",
    "print(name)\n",
    "print(type(name))"
   ]
  },
  {
   "cell_type": "markdown",
   "id": "f4f64ef4",
   "metadata": {
    "id": "f4f64ef4"
   },
   "source": [
    "**51-Write a Python program to convert a list to a tuple"
   ]
  },
  {
   "cell_type": "code",
   "execution_count": 152,
   "id": "210d56d3",
   "metadata": {
    "id": "210d56d3"
   },
   "outputs": [
    {
     "name": "stdout",
     "output_type": "stream",
     "text": [
      "(1, 2, 3, 4, 5)\n"
     ]
    }
   ],
   "source": [
    "ls = [1,2,3,4,5]\n",
    "tup = tuple(ls)\n",
    "print(tup)"
   ]
  },
  {
   "cell_type": "markdown",
   "id": "b1e00ef7",
   "metadata": {
    "id": "b1e00ef7"
   },
   "source": [
    "**52-Write a Python program to reverse a tuple"
   ]
  },
  {
   "cell_type": "code",
   "execution_count": 154,
   "id": "f45bfdc7",
   "metadata": {
    "id": "f45bfdc7"
   },
   "outputs": [
    {
     "data": {
      "text/plain": [
       "(5, 4, 3, 2, 1)"
      ]
     },
     "execution_count": 154,
     "metadata": {},
     "output_type": "execute_result"
    }
   ],
   "source": [
    "tup = tup[::-1]\n",
    "tup"
   ]
  },
  {
   "cell_type": "markdown",
   "id": "3cd347d1",
   "metadata": {
    "id": "3cd347d1"
   },
   "source": [
    "**53-Write a Python program to replace the last value of tuples in a list.\n",
    "Sample list: [(10, 20, 40), (40, 50, 60), (70, 80, 90)]\n",
    "Expected Output: [(10, 20, 100), (40, 50, 100), (70, 80, 100)]"
   ]
  },
  {
   "cell_type": "code",
   "execution_count": 84,
   "id": "3c4a2a4c",
   "metadata": {
    "id": "3c4a2a4c"
   },
   "outputs": [
    {
     "name": "stdout",
     "output_type": "stream",
     "text": [
      "[(10, 20, 100), (40, 50, 100), (70, 80, 100)]\n"
     ]
    }
   ],
   "source": [
    "sample_list = [(10, 20, 40), (40, 50, 60), (70, 80, 90)]\n",
    "new_value = 100\n",
    "\n",
    "def replace(tuple_list, new_value):\n",
    "    return [t[:-1] + (new_value,) for t in tuple_list]\n",
    "    \n",
    "result = replace(sample_list, new_value)\n",
    "print(result)"
   ]
  },
  {
   "cell_type": "markdown",
   "id": "76bb7b39",
   "metadata": {
    "id": "76bb7b39"
   },
   "source": [
    "**54-Write a Python program to convert a given string list to a tuple\n",
    "Original string: python 3.0\n",
    "<class 'str'>\n",
    "Convert the said string to a tuple:\n",
    "('p', 'y', 't', 'h', 'o', 'n', '3', '.', '0')"
   ]
  },
  {
   "cell_type": "code",
   "execution_count": 158,
   "id": "51951937",
   "metadata": {
    "id": "51951937"
   },
   "outputs": [
    {
     "data": {
      "text/plain": [
       "('p', 'y', 't', 'h', 'o', 'n', '3', '.', '0')"
      ]
     },
     "execution_count": 158,
     "metadata": {},
     "output_type": "execute_result"
    }
   ],
   "source": [
    "str_ = \"python3.0\"\n",
    "str_ = tuple(str_)\n",
    "str_"
   ]
  },
  {
   "cell_type": "markdown",
   "id": "5a1d5d97",
   "metadata": {
    "id": "5a1d5d97"
   },
   "source": [
    "**55-Write a Python program to calculate the average value of the numbers in a given tuple of tuples"
   ]
  },
  {
   "cell_type": "code",
   "execution_count": 155,
   "id": "834e7992",
   "metadata": {
    "id": "834e7992"
   },
   "outputs": [
    {
     "name": "stdout",
     "output_type": "stream",
     "text": [
      "3.0\n"
     ]
    }
   ],
   "source": [
    "print(sum(tup)/len(tup))"
   ]
  },
  {
   "cell_type": "markdown",
   "id": "51edab9c",
   "metadata": {
    "id": "51edab9c"
   },
   "source": [
    "**56-Write a Python program to add member(s) to a set."
   ]
  },
  {
   "cell_type": "code",
   "execution_count": 21,
   "id": "2b65df79",
   "metadata": {
    "id": "2b65df79"
   },
   "outputs": [
    {
     "name": "stdout",
     "output_type": "stream",
     "text": [
      "{1, 2, 3, 4, 5, 10}\n"
     ]
    }
   ],
   "source": [
    "s = {1,2,3,4,5}\n",
    "s.add(10)\n",
    "print(s)"
   ]
  },
  {
   "cell_type": "markdown",
   "id": "965590cc",
   "metadata": {
    "id": "965590cc"
   },
   "source": [
    "**57-Write a Python program to remove an item from a set if it is present in the set."
   ]
  },
  {
   "cell_type": "code",
   "execution_count": 22,
   "id": "866bab28",
   "metadata": {
    "id": "866bab28"
   },
   "outputs": [
    {
     "name": "stdout",
     "output_type": "stream",
     "text": [
      "{1, 2, 3, 4, 5}\n"
     ]
    }
   ],
   "source": [
    "if 10 in s:\n",
    "    s.remove(10)\n",
    "print(s)"
   ]
  },
  {
   "cell_type": "markdown",
   "id": "2b7cfed1",
   "metadata": {
    "id": "2b7cfed1"
   },
   "source": [
    "**58-Write a Python program to create an intersection,union,difference and symmetric difference of sets"
   ]
  },
  {
   "cell_type": "code",
   "execution_count": 17,
   "id": "7f94b7fe",
   "metadata": {
    "id": "7f94b7fe"
   },
   "outputs": [
    {
     "name": "stdout",
     "output_type": "stream",
     "text": [
      "Union {1, 2, 3, 4, 5, 6, 7, 8, 9}\n",
      "intersection {4, 5}\n",
      "difference {1, 2, 3}\n",
      "symmetric difference {1, 2, 3, 6, 7, 8, 9}\n"
     ]
    }
   ],
   "source": [
    "set1, set2 = {1,2,3,4,5}, {4,5,6,7,8,9}\n",
    "\n",
    "print(f\"Union {set1 | set2}\")\n",
    "print(f\"intersection {set1 & set2}\")\n",
    "print(f\"difference {set1 - set2}\")\n",
    "print(f\"symmetric difference {set1 ^ set2}\")"
   ]
  },
  {
   "cell_type": "markdown",
   "id": "b94931e2",
   "metadata": {
    "id": "b94931e2"
   },
   "source": [
    "**59-Write a Python program to find the maximum and minimum values in a set"
   ]
  },
  {
   "cell_type": "code",
   "execution_count": 160,
   "id": "203f9600",
   "metadata": {
    "id": "203f9600"
   },
   "outputs": [
    {
     "name": "stdout",
     "output_type": "stream",
     "text": [
      "5\n",
      "1\n"
     ]
    }
   ],
   "source": [
    "set_ = {1,2,3,4,5}\n",
    "print(max(set_))\n",
    "print(min(set_))"
   ]
  },
  {
   "cell_type": "markdown",
   "id": "255fd554",
   "metadata": {
    "id": "255fd554"
   },
   "source": [
    "**60- Write a Python program that finds all pairs of elements in a list whose sum is equal to a given value."
   ]
  },
  {
   "cell_type": "code",
   "execution_count": 7,
   "id": "c2d94e1f",
   "metadata": {
    "id": "c2d94e1f"
   },
   "outputs": [
    {
     "name": "stdout",
     "output_type": "stream",
     "text": [
      "0 8\n",
      "1 7\n",
      "2 6\n",
      "3 5\n",
      "4 4\n"
     ]
    }
   ],
   "source": [
    "def pairs_elements(num_list , n):\n",
    "    for i in range(len(num_list)):\n",
    "        for j in num_list[i:]:\n",
    "            if num_list[i] + j == n:\n",
    "                print(num_list[i] , j)\n",
    "                \n",
    "pairs_elements([i for i in range(16)] , 8)"
   ]
  }
 ],
 "metadata": {
  "colab": {
   "provenance": []
  },
  "kernelspec": {
   "display_name": "Python 3 (ipykernel)",
   "language": "python",
   "name": "python3"
  },
  "language_info": {
   "codemirror_mode": {
    "name": "ipython",
    "version": 3
   },
   "file_extension": ".py",
   "mimetype": "text/x-python",
   "name": "python",
   "nbconvert_exporter": "python",
   "pygments_lexer": "ipython3",
   "version": "3.12.7"
  }
 },
 "nbformat": 4,
 "nbformat_minor": 5
}
