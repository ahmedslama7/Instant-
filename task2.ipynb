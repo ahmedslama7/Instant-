{
  "nbformat": 4,
  "nbformat_minor": 0,
  "metadata": {
    "colab": {
      "provenance": []
    },
    "kernelspec": {
      "name": "python3",
      "display_name": "Python 3"
    },
    "language_info": {
      "name": "python"
    }
  },
  "cells": [
    {
      "cell_type": "markdown",
      "source": [
        "\n",
        "# **WAP to enter a number from user and print its absolute value.**"
      ],
      "metadata": {
        "id": "MnWAiH2o0zSa"
      }
    },
    {
      "cell_type": "code",
      "source": [
        "import numpy as np\n",
        "\n",
        "num = int(input())\n",
        "print(np.abs(num))"
      ],
      "metadata": {
        "id": "l3oLMLbk02Pj",
        "outputId": "3bf0290c-ed7f-4d53-e2af-da8da984a0ed",
        "colab": {
          "base_uri": "https://localhost:8080/"
        }
      },
      "execution_count": 1,
      "outputs": [
        {
          "output_type": "stream",
          "name": "stdout",
          "text": [
            "-300\n",
            "300\n"
          ]
        }
      ]
    },
    {
      "cell_type": "markdown",
      "source": [
        "# **WAP to enter a year from user and check if it is leap year or not.**"
      ],
      "metadata": {
        "id": "pOnjNwNx03Tr"
      }
    },
    {
      "cell_type": "code",
      "source": [
        "year = int(input())\n",
        "\n",
        "if (year % 4 == 0 and year % 100 != 0) or (year % 400 == 0):\n",
        "    print(f\"{year} is a leap year\")\n",
        "else:\n",
        "    print(f\"{year} is not a leap year\")"
      ],
      "metadata": {
        "id": "4PEtUTm51H6x",
        "outputId": "3db921e4-e106-4673-b178-7135e967daa5",
        "colab": {
          "base_uri": "https://localhost:8080/"
        }
      },
      "execution_count": 2,
      "outputs": [
        {
          "output_type": "stream",
          "name": "stdout",
          "text": [
            "2024\n",
            "2024 is a leap year\n"
          ]
        }
      ]
    },
    {
      "cell_type": "markdown",
      "source": [
        "# **WAP to enter the age of 3 person and print oldest and yougest among them.**"
      ],
      "metadata": {
        "id": "sn-NADUn1VGn"
      }
    },
    {
      "cell_type": "code",
      "source": [
        "age1, age2, age3 = map(int, input().split())\n",
        "ages = [age1, age2, age3]\n",
        "\n",
        "print(f'Youngest = {max(ages)}')\n",
        "print(f'Oldest = {min(ages)}')"
      ],
      "metadata": {
        "id": "uNGWS1AT1cYP",
        "outputId": "44b550f9-337c-4883-a567-b53fdd9ae055",
        "colab": {
          "base_uri": "https://localhost:8080/"
        }
      },
      "execution_count": 5,
      "outputs": [
        {
          "output_type": "stream",
          "name": "stdout",
          "text": [
            "12 88 25\n",
            "Youngest = 88\n",
            "Oldest = 12\n"
          ]
        }
      ]
    },
    {
      "cell_type": "markdown",
      "source": [
        "# **Write a program that asks the user to enter a series of numbers. The program should ask for numbers until the user enters a negative number. Once the user enters a negative number, the program should stop and print the sum of all the positive numbers entered**\n",
        "# **Example**\n",
        "# **Enter a number: 5**\n",
        "# **Enter a number: 8**\n",
        "# **Enter a number: 12**\n",
        "# **Enter a number: -2**\n",
        "# **The sum of the positive numbers is 25.**"
      ],
      "metadata": {
        "id": "XFRRNGVj1dEw"
      }
    },
    {
      "cell_type": "code",
      "source": [
        "temp=[]\n",
        "i=0\n",
        "while(True):\n",
        "  i+=1\n",
        "  num = int(input(f\"enter the number{i}\\t\"))\n",
        "  if num >= 0:\n",
        "    temp.append(num)\n",
        "  else:\n",
        "    break\n",
        "\n",
        "print(f'result = {sum(temp)}')"
      ],
      "metadata": {
        "id": "ijp9SzHu2A3p",
        "outputId": "2e05c798-d2c6-47f2-ab1d-53e28936d32e",
        "colab": {
          "base_uri": "https://localhost:8080/"
        }
      },
      "execution_count": 6,
      "outputs": [
        {
          "output_type": "stream",
          "name": "stdout",
          "text": [
            "enter the number1\t1\n",
            "enter the number2\t5\n",
            "enter the number3\t23\n",
            "enter the number4\t-12\n",
            "result = 29\n"
          ]
        }
      ]
    },
    {
      "cell_type": "markdown",
      "source": [
        "# **Write a program that asks the user to enter their name and age. The program should check if the user's age is greater than or equal to 18. If it is, the program should print a message saying they are eligible to vote. Otherwise, the program should print a message saying they are not eligible to vote due to being underage.**"
      ],
      "metadata": {
        "id": "oODCHUj62DxA"
      }
    },
    {
      "cell_type": "code",
      "source": [
        "name = input(\"Please enter your name\\t\")\n",
        "age = int(input(\"Please enter your age\\t\"))\n",
        "if age >= 18:\n",
        "  print(f\"{name}! : you are eligible to vote :)\")\n",
        "else:\n",
        "  print(f\"{name}! : you are not eligible to vote due to being underage :(\")"
      ],
      "metadata": {
        "id": "Svls1cLA2JVA",
        "outputId": "93ef4297-dded-4c8c-f27a-14cfb26f9ceb",
        "colab": {
          "base_uri": "https://localhost:8080/"
        }
      },
      "execution_count": 7,
      "outputs": [
        {
          "output_type": "stream",
          "name": "stdout",
          "text": [
            "Please enter your name\tMostafa\n",
            "Please enter your age\t12\n",
            "Mostafa! : you are not eligible to vote due to being underage :(\n"
          ]
        }
      ]
    },
    {
      "cell_type": "markdown",
      "source": [
        "# **Write a Python Program to Find the Factorial of a Number**"
      ],
      "metadata": {
        "id": "2y5o5SqL3nvL"
      }
    },
    {
      "cell_type": "code",
      "source": [
        "def fact(n):\n",
        "  if n == 1 :\n",
        "    return(n)\n",
        "  else:\n",
        "    return n*fact(n-1)\n",
        "\n",
        "fact(6)"
      ],
      "metadata": {
        "id": "Q_v3ns1D3tgy",
        "outputId": "214c7092-8f6f-41ff-a872-3d1d19283170",
        "colab": {
          "base_uri": "https://localhost:8080/"
        }
      },
      "execution_count": 8,
      "outputs": [
        {
          "output_type": "execute_result",
          "data": {
            "text/plain": [
              "720"
            ]
          },
          "metadata": {},
          "execution_count": 8
        }
      ]
    },
    {
      "cell_type": "code",
      "source": [],
      "metadata": {
        "id": "LEXc0cTepAwb"
      },
      "execution_count": null,
      "outputs": []
    }
  ]
}