{
 "cells": [
  {
   "cell_type": "markdown",
   "metadata": {
    "id": "MnWAiH2o0zSa"
   },
   "source": [
    "\n",
    "# **WAP to enter a number from user and print its absolute value.**"
   ]
  },
  {
   "cell_type": "code",
   "execution_count": 2,
   "metadata": {
    "colab": {
     "base_uri": "https://localhost:8080/"
    },
    "id": "l3oLMLbk02Pj",
    "outputId": "3bf0290c-ed7f-4d53-e2af-da8da984a0ed"
   },
   "outputs": [
    {
     "name": "stdin",
     "output_type": "stream",
     "text": [
      " -60\n"
     ]
    },
    {
     "name": "stdout",
     "output_type": "stream",
     "text": [
      "60\n"
     ]
    }
   ],
   "source": [
    "import numpy as np\n",
    "\n",
    "num = input()\n",
    "num = int(num[1:])\n",
    "print(num)"
   ]
  },
  {
   "cell_type": "markdown",
   "metadata": {
    "id": "pOnjNwNx03Tr"
   },
   "source": [
    "# **WAP to enter a year from user and check if it is leap year or not.**"
   ]
  },
  {
   "cell_type": "code",
   "execution_count": 2,
   "metadata": {
    "colab": {
     "base_uri": "https://localhost:8080/"
    },
    "id": "4PEtUTm51H6x",
    "outputId": "3db921e4-e106-4673-b178-7135e967daa5"
   },
   "outputs": [
    {
     "name": "stdout",
     "output_type": "stream",
     "text": [
      "2024\n",
      "2024 is a leap year\n"
     ]
    }
   ],
   "source": [
    "year = int(input())\n",
    "\n",
    "if (year % 4 == 0 and year % 100 != 0) or (year % 400 == 0):\n",
    "    print(f\"{year} is a leap year\")\n",
    "else:\n",
    "    print(f\"{year} is not a leap year\")"
   ]
  },
  {
   "cell_type": "markdown",
   "metadata": {
    "id": "sn-NADUn1VGn"
   },
   "source": [
    "# **WAP to enter the age of 3 person and print oldest and yougest among them.**"
   ]
  },
  {
   "cell_type": "code",
   "execution_count": 11,
   "metadata": {
    "colab": {
     "base_uri": "https://localhost:8080/"
    },
    "id": "uNGWS1AT1cYP",
    "outputId": "d4abb13d-7f6c-408d-88a6-7068fc5308de"
   },
   "outputs": [
    {
     "name": "stdin",
     "output_type": "stream",
     "text": [
      " 88 6 24\n"
     ]
    },
    {
     "name": "stdout",
     "output_type": "stream",
     "text": [
      "Oldest = 88\n",
      "Youngest = 6\n"
     ]
    }
   ],
   "source": [
    "age1, age2, age3 = map(int, input().split())\n",
    "ages = [age1, age2, age3]\n",
    "\n",
    "print(f'Oldest = {max(ages)}')\n",
    "print(f'Youngest = {min(ages)}')"
   ]
  },
  {
   "cell_type": "code",
   "execution_count": 12,
   "metadata": {},
   "outputs": [
    {
     "name": "stdout",
     "output_type": "stream",
     "text": [
      "Oldest = 88\n",
      "Youngest = 6\n"
     ]
    }
   ],
   "source": [
    "if age1 >= age2 and age1 >= age3:\n",
    "    print(f'Oldest = {age1}')\n",
    "elif age2 >= age1 and age2 >= age3:\n",
    "    print(f'Oldest = {age2}')\n",
    "else:\n",
    "    print(f'Oldest = {age3}')\n",
    "\n",
    "\n",
    "if age1 <= age2 and age1 <= age3:\n",
    "    print(f'Youngest = {age1}')\n",
    "elif age2 <= age1 and age2 <= age3:\n",
    "    print(f'Youngest = {age2}')\n",
    "else:\n",
    "    print(f'Youngest = {age3}')"
   ]
  },
  {
   "cell_type": "markdown",
   "metadata": {
    "id": "XFRRNGVj1dEw"
   },
   "source": [
    "# **Write a program that asks the user to enter a series of numbers. The program should ask for numbers until the user enters a negative number. Once the user enters a negative number, the program should stop and print the sum of all the positive numbers entered**\n",
    "# **Example**\n",
    "# **Enter a number: 5**\n",
    "# **Enter a number: 8**\n",
    "# **Enter a number: 12**\n",
    "# **Enter a number: -2**\n",
    "# **The sum of the positive numbers is 25.**"
   ]
  },
  {
   "cell_type": "code",
   "execution_count": 6,
   "metadata": {
    "colab": {
     "base_uri": "https://localhost:8080/"
    },
    "id": "ijp9SzHu2A3p",
    "outputId": "2e05c798-d2c6-47f2-ab1d-53e28936d32e"
   },
   "outputs": [
    {
     "name": "stdout",
     "output_type": "stream",
     "text": [
      "enter the number1\t1\n",
      "enter the number2\t5\n",
      "enter the number3\t23\n",
      "enter the number4\t-12\n",
      "result = 29\n"
     ]
    }
   ],
   "source": [
    "temp=[]\n",
    "i=0\n",
    "while(True):\n",
    "  i+=1\n",
    "  num = int(input(f\"enter the number{i}\\t\"))\n",
    "  if num >= 0:\n",
    "    temp.append(num)\n",
    "  else:\n",
    "    break\n",
    "\n",
    "print(f'result = {sum(temp)}')"
   ]
  },
  {
   "cell_type": "markdown",
   "metadata": {
    "id": "oODCHUj62DxA"
   },
   "source": [
    "# **Write a program that asks the user to enter their name and age. The program should check if the user's age is greater than or equal to 18. If it is, the program should print a message saying they are eligible to vote. Otherwise, the program should print a message saying they are not eligible to vote due to being underage.**"
   ]
  },
  {
   "cell_type": "code",
   "execution_count": 7,
   "metadata": {
    "colab": {
     "base_uri": "https://localhost:8080/"
    },
    "id": "Svls1cLA2JVA",
    "outputId": "93ef4297-dded-4c8c-f27a-14cfb26f9ceb"
   },
   "outputs": [
    {
     "name": "stdout",
     "output_type": "stream",
     "text": [
      "Please enter your name\tMostafa\n",
      "Please enter your age\t12\n",
      "Mostafa! : you are not eligible to vote due to being underage :(\n"
     ]
    }
   ],
   "source": [
    "name = input(\"Please enter your name\\t\")\n",
    "age = int(input(\"Please enter your age\\t\"))\n",
    "if age >= 18:\n",
    "  print(f\"{name}! : you are eligible to vote :)\")\n",
    "else:\n",
    "  print(f\"{name}! : you are not eligible to vote due to being underage :(\")"
   ]
  },
  {
   "cell_type": "markdown",
   "metadata": {
    "id": "2y5o5SqL3nvL"
   },
   "source": [
    "# **Write a Python Program to Find the Factorial of a Number**"
   ]
  },
  {
   "cell_type": "code",
   "execution_count": 8,
   "metadata": {
    "colab": {
     "base_uri": "https://localhost:8080/"
    },
    "id": "Q_v3ns1D3tgy",
    "outputId": "214c7092-8f6f-41ff-a872-3d1d19283170"
   },
   "outputs": [
    {
     "data": {
      "text/plain": [
       "720"
      ]
     },
     "execution_count": 8,
     "metadata": {},
     "output_type": "execute_result"
    }
   ],
   "source": [
    "def fact(n):\n",
    "  if n == 1 :\n",
    "    return(n)\n",
    "  else:\n",
    "    return n*fact(n-1)\n",
    "\n",
    "fact(6)"
   ]
  },
  {
   "cell_type": "code",
   "execution_count": null,
   "metadata": {
    "id": "LEXc0cTepAwb"
   },
   "outputs": [],
   "source": []
  }
 ],
 "metadata": {
  "colab": {
   "provenance": []
  },
  "kernelspec": {
   "display_name": "Python 3 (ipykernel)",
   "language": "python",
   "name": "python3"
  },
  "language_info": {
   "codemirror_mode": {
    "name": "ipython",
    "version": 3
   },
   "file_extension": ".py",
   "mimetype": "text/x-python",
   "name": "python",
   "nbconvert_exporter": "python",
   "pygments_lexer": "ipython3",
   "version": "3.12.7"
  }
 },
 "nbformat": 4,
 "nbformat_minor": 4
}
