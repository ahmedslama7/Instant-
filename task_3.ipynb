{
 "cells": [
  {
   "cell_type": "markdown",
   "id": "ff38aad7",
   "metadata": {
    "id": "ff38aad7"
   },
   "source": [
    "### 1-Write a Python program that takes two numbers as user input and performs addition on them."
   ]
  },
  {
   "cell_type": "code",
   "execution_count": 2,
   "id": "91696b79",
   "metadata": {
    "colab": {
     "base_uri": "https://localhost:8080/"
    },
    "id": "91696b79",
    "outputId": "dd6d89b1-bf5e-4400-a219-a703c0462acf"
   },
   "outputs": [
    {
     "name": "stdout",
     "output_type": "stream",
     "text": [
      "2.5 3\n",
      "5.5\n"
     ]
    }
   ],
   "source": [
    "num1, num2 = map(float, input().split())\n",
    "print(num1+num2)"
   ]
  },
  {
   "cell_type": "markdown",
   "id": "360854ff",
   "metadata": {
    "id": "360854ff"
   },
   "source": [
    "### 2-Write a Python program that takes an integer as input and checks if it is even or odd. Print \"Even\" if the number is divisible by 2, otherwise print \"Odd\"."
   ]
  },
  {
   "cell_type": "code",
   "execution_count": 6,
   "id": "ee4c35fe",
   "metadata": {
    "ExecuteTime": {
     "end_time": "2023-07-23T21:35:24.351946Z",
     "start_time": "2023-07-23T21:35:23.287212Z"
    },
    "colab": {
     "base_uri": "https://localhost:8080/"
    },
    "id": "ee4c35fe",
    "outputId": "18669615-6384-401f-edc3-9edc1f277b4d"
   },
   "outputs": [
    {
     "name": "stdout",
     "output_type": "stream",
     "text": [
      "8\n",
      "Even\n"
     ]
    }
   ],
   "source": [
    "try:\n",
    "  num = int(input())\n",
    "  if num % 2 == 0:\n",
    "    print(\"Even\")\n",
    "  else:\n",
    "    print(\"Odd\")\n",
    "except:\n",
    "  print(\"Please enter a numerical input\")\n"
   ]
  },
  {
   "cell_type": "code",
   "execution_count": 13,
   "id": "65dc45b0-38bc-4613-8227-c247a8a920cf",
   "metadata": {},
   "outputs": [
    {
     "name": "stdin",
     "output_type": "stream",
     "text": [
      " 7\n"
     ]
    },
    {
     "name": "stdout",
     "output_type": "stream",
     "text": [
      "Odd\n"
     ]
    }
   ],
   "source": [
    "try:\n",
    "    num = int(input())\n",
    "    Output = lambda X: X % 2\n",
    "    if Output(num) == 0:\n",
    "        print(\"Even\")\n",
    "    else:\n",
    "        print('Odd')\n",
    "        \n",
    "except:\n",
    "  print(\"Please enter a numerical input\")"
   ]
  },
  {
   "cell_type": "markdown",
   "id": "6ea0354c",
   "metadata": {
    "id": "6ea0354c"
   },
   "source": [
    "### 3-Write a Python program that prints all the even numbers from 1 to 20 using a for loop"
   ]
  },
  {
   "cell_type": "code",
   "execution_count": 7,
   "id": "df43b7f5",
   "metadata": {
    "ExecuteTime": {
     "end_time": "2023-07-23T21:36:51.373589Z",
     "start_time": "2023-07-23T21:36:51.365580Z"
    },
    "colab": {
     "base_uri": "https://localhost:8080/"
    },
    "id": "df43b7f5",
    "outputId": "7cf97b36-dd86-4b50-8468-111358c80cbf"
   },
   "outputs": [
    {
     "name": "stdout",
     "output_type": "stream",
     "text": [
      "[0, 2, 4, 6, 8, 10]\n"
     ]
    }
   ],
   "source": [
    "ls = [i for i in range(11)]\n",
    "even = [x for x in ls if x % 2 == 0]\n",
    "print(even)"
   ]
  },
  {
   "cell_type": "markdown",
   "id": "2d66bab2",
   "metadata": {
    "id": "2d66bab2"
   },
   "source": [
    "### 4-Write a Python function that takes a string as input and counts the number of vowels (a, e, i, o, u) in the string. The function should return the count"
   ]
  },
  {
   "cell_type": "code",
   "execution_count": 21,
   "id": "a37a84fd",
   "metadata": {
    "ExecuteTime": {
     "end_time": "2023-07-23T21:45:58.522044Z",
     "start_time": "2023-07-23T21:45:58.514370Z"
    },
    "colab": {
     "base_uri": "https://localhost:8080/"
    },
    "id": "a37a84fd",
    "outputId": "f73b82cd-1241-4c68-a24f-8bcc7dd0d5ff"
   },
   "outputs": [
    {
     "name": "stdout",
     "output_type": "stream",
     "text": [
      "Omniaa\n",
      "4\n"
     ]
    }
   ],
   "source": [
    "word = input().lower()\n",
    "word = [i for i in word]\n",
    "vowels = ['a', 'e', 'i', 'o', 'u']\n",
    "\n",
    "sum = 0\n",
    "for i in word:\n",
    "  if i in vowels:\n",
    "    sum+=1\n",
    "print(sum)"
   ]
  },
  {
   "cell_type": "code",
   "execution_count": 24,
   "id": "2eb8e4de",
   "metadata": {
    "ExecuteTime": {
     "end_time": "2023-07-23T23:56:27.324204Z",
     "start_time": "2023-07-23T23:56:26.972092Z"
    },
    "colab": {
     "base_uri": "https://localhost:8080/"
    },
    "id": "2eb8e4de",
    "outputId": "989996e4-4a70-4ff9-c384-c3f57803ac61"
   },
   "outputs": [
    {
     "name": "stdout",
     "output_type": "stream",
     "text": [
      "Omniaa\n",
      "4\n"
     ]
    }
   ],
   "source": [
    "word = input().lower()\n",
    "\n",
    "def number_vowels(word):\n",
    "  word = [i for i in word]\n",
    "  vowels = ['a', 'e', 'i', 'o', 'u']\n",
    "  sum = 0\n",
    "\n",
    "  for i in word:\n",
    "    if i in vowels:\n",
    "      sum+=1\n",
    "\n",
    "  print(sum)\n",
    "\n",
    "number_vowels(word)"
   ]
  },
  {
   "cell_type": "markdown",
   "id": "a9a0ea06",
   "metadata": {
    "id": "a9a0ea06"
   },
   "source": [
    "### 5-Write a Python program that creates a list of numbers from 1 to 10. Use a loop to iterate over the list and print each number of power 2."
   ]
  },
  {
   "cell_type": "code",
   "execution_count": 43,
   "id": "6fa658cf",
   "metadata": {
    "ExecuteTime": {
     "end_time": "2023-07-23T21:48:02.328880Z",
     "start_time": "2023-07-23T21:48:02.314313Z"
    },
    "colab": {
     "base_uri": "https://localhost:8080/"
    },
    "id": "6fa658cf",
    "outputId": "3bffcb97-3acc-4644-e88f-0fdfebb32063"
   },
   "outputs": [
    {
     "name": "stdout",
     "output_type": "stream",
     "text": [
      "[1, 4, 27, 256, 3125, 46656, 823543, 16777216, 387420489, 10000000000]\n"
     ]
    }
   ],
   "source": [
    "nums = [i for i in range(1,11)]\n",
    "power_ls = []\n",
    "\n",
    "for n in nums:\n",
    "  power = 1\n",
    "  for i in range(n):\n",
    "    power*=n\n",
    "  power_ls.append(power)\n",
    "\n",
    "print(power_ls)\n"
   ]
  },
  {
   "cell_type": "markdown",
   "id": "430c9df9",
   "metadata": {
    "id": "430c9df9"
   },
   "source": [
    "### 6-Write a Python program that calculates the average grade for a student based on their scores in different subjects. The program should include the following steps:\n",
    "\n",
    "#### 1-Create variables to store the student's name, subject names, and corresponding scores. Initialize the variables with sample data.\n",
    "\n",
    "#### 2-Prompt the user to enter the student's name and assign it to the name variable.\n",
    "\n",
    "#### 3-Use a loop to prompt the user to enter the subject names and corresponding scores. Store the subject names in a list and the scores in another list.\n",
    "\n",
    "#### 4-After collecting the scores, calculate the average grade by summing up all the scores and dividing by the total number of subjects.\n",
    "\n",
    "#### 5-Check if the average grade is above a 70, print a congratulatory message. Otherwise, print an encouragement message."
   ]
  },
  {
   "cell_type": "code",
   "execution_count": 65,
   "id": "e0254271",
   "metadata": {
    "ExecuteTime": {
     "end_time": "2023-07-15T16:16:17.066909Z",
     "start_time": "2023-07-15T16:16:07.636799Z"
    },
    "id": "e0254271"
   },
   "outputs": [
    {
     "name": "stdin",
     "output_type": "stream",
     "text": [
      "Please enter your name:\t Ahmed Elsaid\n",
      "Please enter the subject name:\t Arabic\n",
      "Please enter the subject score:\t 90\n",
      "Need to enter any other data (y/n):\t y\n",
      "Please enter the subject name:\t English\n",
      "Please enter the subject score:\t 70\n",
      "Need to enter any other data (y/n):\t y\n",
      "Please enter the subject name:\t Programming\n",
      "Please enter the subject score:\t 100\n",
      "Need to enter any other data (y/n):\t n\n"
     ]
    },
    {
     "name": "stdout",
     "output_type": "stream",
     "text": [
      "{'name': 'Ahmed Elsaid', 'Subject names': ['Arabic', 'English', 'Programming'], 'Scores': [90, 70, 100]} \n",
      "\n",
      "Subject name: Arabic | Score: 90\n",
      "\n",
      "Subject name: English | Score: 70\n",
      "\n",
      "Subject name: Programming | Score: 100\n",
      "\n",
      "Your average Grade is:  86.67%\n",
      "\n",
      "Will done Keep going :)\n"
     ]
    }
   ],
   "source": [
    "St_Name    = input(\"Please enter your name:\\t\")\n",
    "Sub_Names  = []\n",
    "Sub_Scores = [] \n",
    "\n",
    "while (True):\n",
    "    Sub_Name  = input(\"Please enter the subject name:\\t\")\n",
    "    Sub_Score = int(input(\"Please enter the subject score:\\t\"))\n",
    "\n",
    "    Sub_Names.append(Sub_Name)\n",
    "    Sub_Scores.append(Sub_Score)\n",
    "\n",
    "    end = input(\"Need to enter any other data (y/n):\\t\")\n",
    "    if end == 'n':\n",
    "        break\n",
    "        \n",
    "Data = {'name':St_Name,\n",
    "       'Subject names': Sub_Names,\n",
    "       'Scores': Sub_Scores}\n",
    "\n",
    "print(Data,'\\n')\n",
    "for k,v in zip(Data['Subject names'], Data['Scores']):\n",
    "    print(f'Subject name: {k} | Score: {v}\\n')\n",
    "\n",
    "Average_Grade = sum(Data['Scores'])/len(Data['Scores'])\n",
    "print(f'Your average Grade is: {Average_Grade : 0.2f}%\\n')\n",
    "\n",
    "if Average_Grade > 70:\n",
    "    print(\"Will done Keep going :)\")\n",
    "else:\n",
    "    print(\"Hard luck :( never give up\")"
   ]
  },
  {
   "cell_type": "markdown",
   "id": "ae9df360",
   "metadata": {
    "id": "ae9df360"
   },
   "source": [
    "### 7-Find Common Elements\n",
    "### Write a Python function that takes two lists as input and returns a new list containing the common elements present in both lists."
   ]
  },
  {
   "cell_type": "code",
   "execution_count": 48,
   "id": "d030c3c0",
   "metadata": {
    "ExecuteTime": {
     "end_time": "2023-07-23T22:08:16.794474Z",
     "start_time": "2023-07-23T22:08:16.775639Z"
    },
    "colab": {
     "base_uri": "https://localhost:8080/"
    },
    "id": "d030c3c0",
    "outputId": "e6c0c8cc-e747-407e-e3bd-cb8fcbc83462"
   },
   "outputs": [
    {
     "data": {
      "text/plain": [
       "{3, 4, 8, 9}"
      ]
     },
     "execution_count": 48,
     "metadata": {},
     "output_type": "execute_result"
    }
   ],
   "source": [
    "def Common_elements(ls1, ls2):\n",
    "  result = []\n",
    "  for i in ls1:\n",
    "    for j in ls2:\n",
    "      if j == i:\n",
    "        result.append(i)\n",
    "  return (set(result))\n",
    "\n",
    "Common_elements([1,2,3,4,8,9], [4,6,3,7,8,9,6,3])"
   ]
  },
  {
   "cell_type": "markdown",
   "id": "9a2f34cb",
   "metadata": {
    "id": "9a2f34cb"
   },
   "source": [
    "### 8-Write a Python function that takes a list of numbers and an element to remove from the list."
   ]
  },
  {
   "cell_type": "code",
   "execution_count": 79,
   "id": "78de9fe8",
   "metadata": {
    "ExecuteTime": {
     "end_time": "2023-07-23T22:21:36.514592Z",
     "start_time": "2023-07-23T22:21:36.505437Z"
    },
    "colab": {
     "base_uri": "https://localhost:8080/"
    },
    "id": "78de9fe8",
    "outputId": "dfa13075-a6a5-4b57-f7b6-63b7d08a59b6"
   },
   "outputs": [
    {
     "data": {
      "text/plain": [
       "[0, 1, 2, 3, 4, 6, 7, 8, 9, 10]"
      ]
     },
     "execution_count": 79,
     "metadata": {},
     "output_type": "execute_result"
    }
   ],
   "source": [
    "def remove(ls, n):\n",
    "  new_ls = [x for x in ls if x != n]\n",
    "  return new_ls\n",
    "\n",
    "remove([i for i in range(11)], 5)"
   ]
  },
  {
   "cell_type": "markdown",
   "id": "f1658f3b",
   "metadata": {
    "ExecuteTime": {
     "end_time": "2023-07-23T22:18:08.230185Z",
     "start_time": "2023-07-23T22:18:08.224220Z"
    },
    "id": "f1658f3b"
   },
   "source": [
    "### 9-Given 4 numbers A, B, C and D. Print the last 2 digits from their Multiplication.\n",
    "### Example :\n",
    "### the Multiplication of 4 numbers is 5 * 7 * 2 * 4 = 280 so the answer will be the last 2 digits which are 80."
   ]
  },
  {
   "cell_type": "code",
   "execution_count": 67,
   "id": "e3acbe03",
   "metadata": {
    "ExecuteTime": {
     "end_time": "2023-07-23T22:26:11.183016Z",
     "start_time": "2023-07-23T22:26:03.981069Z"
    },
    "colab": {
     "base_uri": "https://localhost:8080/"
    },
    "id": "e3acbe03",
    "outputId": "8513ce3c-5100-4e8f-9cfe-9610121ff039"
   },
   "outputs": [
    {
     "name": "stdin",
     "output_type": "stream",
     "text": [
      " 5 7 2 4\n"
     ]
    },
    {
     "name": "stdout",
     "output_type": "stream",
     "text": [
      "the result of multiplication is: 280 | the last two digits: 80\n"
     ]
    }
   ],
   "source": [
    "A,B,C,D = map(int,input().split())\n",
    "mul = A*B*C*D\n",
    "print(f'the result of multiplication is: {mul} | the last two digits: {mul%100}')"
   ]
  },
  {
   "cell_type": "markdown",
   "id": "d7ab15bb",
   "metadata": {
    "ExecuteTime": {
     "end_time": "2023-07-23T22:26:14.833712Z",
     "start_time": "2023-07-23T22:26:14.819130Z"
    },
    "id": "d7ab15bb"
   },
   "source": [
    "### 10- Given a number X. Determine if the number is prime or not"
   ]
  },
  {
   "cell_type": "code",
   "execution_count": 19,
   "id": "59b27f0a",
   "metadata": {
    "ExecuteTime": {
     "end_time": "2023-07-23T22:35:25.933766Z",
     "start_time": "2023-07-23T22:35:24.168681Z"
    },
    "colab": {
     "base_uri": "https://localhost:8080/"
    },
    "id": "59b27f0a",
    "outputId": "f0ec4e77-62f6-491b-cb7e-f12bf41a01d8"
   },
   "outputs": [
    {
     "data": {
      "text/plain": [
       "'prime'"
      ]
     },
     "execution_count": 19,
     "metadata": {},
     "output_type": "execute_result"
    }
   ],
   "source": [
    "def PrimeOrNot(n):\n",
    "    if n < 3:\n",
    "        return \"prime\"\n",
    "        \n",
    "    for i in range(2,n):    \n",
    "        if n % i != 0:\n",
    "            return \"prime\"\n",
    "            break\n",
    "        else:\n",
    "            return \"not prime\"\n",
    "            break\n",
    "\n",
    "PrimeOrNot(n=11)"
   ]
  },
  {
   "cell_type": "markdown",
   "id": "e1d1dcf9",
   "metadata": {
    "id": "e1d1dcf9"
   },
   "source": [
    "### 11- Given a number N and a list A of N numbers. Determine if the number X exists in array A or not and print its position (0-index)."
   ]
  },
  {
   "cell_type": "code",
   "execution_count": 10,
   "id": "f3de7273-9909-417e-86ad-05daf175d5fd",
   "metadata": {},
   "outputs": [
    {
     "name": "stdout",
     "output_type": "stream",
     "text": [
      "Value of X :4 ---> Index of X: 3\n"
     ]
    }
   ],
   "source": [
    "x = 4\n",
    "ls=[i for i in range(1,11)]\n",
    "\n",
    "if x not in ls:\n",
    "    print(\"The number is not exists\")\n",
    "    \n",
    "i = 0\n",
    "while(x in ls):\n",
    "    if x == ls[i]:\n",
    "        print(f'Value of X :{ls[i]} ---> Index of X: {i}')\n",
    "        break\n",
    "    i+=1"
   ]
  },
  {
   "cell_type": "code",
   "execution_count": 11,
   "id": "2b002b0e",
   "metadata": {
    "ExecuteTime": {
     "end_time": "2023-07-23T22:53:41.474835Z",
     "start_time": "2023-07-23T22:53:41.458293Z"
    },
    "id": "2b002b0e"
   },
   "outputs": [
    {
     "name": "stdout",
     "output_type": "stream",
     "text": [
      "Value of X :4 ---> Index of X: 3\n"
     ]
    }
   ],
   "source": [
    "def Check(list_ ,  X):\n",
    "    if X in list_:\n",
    "        print(f'Value of X :{X} ---> Index of X: {list_.index(X)}')\n",
    "    else:\n",
    "        print(\"The number is not exists\")\n",
    "\n",
    "Check([i for i in range(1,11)] , 4)"
   ]
  },
  {
   "cell_type": "markdown",
   "id": "f2ec854b",
   "metadata": {
    "id": "f2ec854b"
   },
   "source": [
    "### 12- Given a number N and a list A of N numbers. Determine if the array is lucky or not.\n",
    "\n",
    "#### Note: the array is lucky if the frequency (number of occurrence) of the minimum element is odd."
   ]
  },
  {
   "cell_type": "code",
   "execution_count": 68,
   "id": "0c4f7f4b",
   "metadata": {
    "ExecuteTime": {
     "end_time": "2023-07-23T23:02:02.490192Z",
     "start_time": "2023-07-23T23:02:02.476874Z"
    },
    "id": "0c4f7f4b"
   },
   "outputs": [
    {
     "name": "stdout",
     "output_type": "stream",
     "text": [
      "Frequency array : [0, 2, 2, 3, 4, 1, 1, 0, 0, 0, 0, 0, 0, 0, 0, 0, 0, 0, 0, 2, 1]\n",
      "lucky\n"
     ]
    }
   ],
   "source": [
    "arr  = [2,3,6,2,1,1,5,3,4,4,4,3,19,4,19,20]\n",
    "\n",
    "def lucky_num(arr):\n",
    "    num = min(arr)\n",
    "\n",
    "    Farr = [0]*(max(arr)+1)\n",
    "    for i in range(len(arr)):\n",
    "        Farr[arr[i]]+=1\n",
    "    print(f'Frequency array : {Farr}')\n",
    "    \n",
    "    if Farr[num] % 2 == 0:\n",
    "        print(\"lucky\")\n",
    "    else:\n",
    "        print(\"not lucky\")\n",
    "\n",
    "lucky_num(arr)"
   ]
  },
  {
   "cell_type": "markdown",
   "id": "e1ce1ae5",
   "metadata": {
    "id": "e1ce1ae5"
   },
   "source": [
    "### 13-Given a number N and a list A of N numbers. Print the array after doing the following operations:\n",
    "\n",
    "#### Find minimum number in these numbers.\n",
    "#### Find maximum number in these numbers.\n",
    "##### Swap minimum number with maximum number."
   ]
  },
  {
   "cell_type": "code",
   "execution_count": 26,
   "id": "e0d6e639",
   "metadata": {
    "ExecuteTime": {
     "end_time": "2023-07-23T23:10:04.293733Z",
     "start_time": "2023-07-23T23:10:04.280256Z"
    },
    "id": "e0d6e639"
   },
   "outputs": [
    {
     "name": "stdout",
     "output_type": "stream",
     "text": [
      "min = 0 , max = 5\n"
     ]
    },
    {
     "data": {
      "text/plain": [
       "[2, 3, 5, 1, 0, 4]"
      ]
     },
     "execution_count": 26,
     "metadata": {},
     "output_type": "execute_result"
    }
   ],
   "source": [
    "arr = [2,3,0,1,5,4]\n",
    "def Quick_Sort(arr):\n",
    "    if len(arr) <= 1:\n",
    "        return arr\n",
    "        \n",
    "    mid  = arr[len(arr)//2]\n",
    "    left  = [x for x in arr if x < mid] \n",
    "    right = [x for x in arr if x > mid]\n",
    "\n",
    "    return Quick_Sort(left)+[mid]+Quick_Sort(right)\n",
    "\n",
    "Sorted_arr = Quick_Sort(arr)\n",
    "print(f'min = {Sorted_arr[0]} , max = {Sorted_arr[-1]}')\n",
    "\n",
    "temp = 0\n",
    "for i in range(0, len(arr)):\n",
    "    for j in range(i+1, len(arr)):\n",
    "        if arr[i] == Sorted_arr[-1] and arr[j] == Sorted_arr[0]:\n",
    "            temp = arr[i]\n",
    "            arr[i] = arr[j]\n",
    "            arr[j] = temp\n",
    "            \n",
    "        elif arr[j] == Sorted_arr[-1] and arr[i] == Sorted_arr[0]:\n",
    "            temp = arr[i]\n",
    "            arr[i] = arr[j]\n",
    "            arr[j] = temp\n",
    "arr"
   ]
  },
  {
   "cell_type": "markdown",
   "id": "9eb8e9c5",
   "metadata": {
    "ExecuteTime": {
     "end_time": "2023-07-23T23:10:06.436833Z",
     "start_time": "2023-07-23T23:10:06.422086Z"
    },
    "id": "9eb8e9c5"
   },
   "source": [
    "### 14-Given a number N and an array A of N numbers. Print the lowest number and its position.\n",
    "\n",
    "### Note: if there are more than one answer print first one's position."
   ]
  },
  {
   "cell_type": "code",
   "execution_count": 8,
   "id": "018e01c8",
   "metadata": {
    "ExecuteTime": {
     "end_time": "2023-07-23T23:20:38.498527Z",
     "start_time": "2023-07-23T23:20:38.490451Z"
    },
    "id": "018e01c8"
   },
   "outputs": [
    {
     "name": "stdout",
     "output_type": "stream",
     "text": [
      "The lowest number is : 1 & its position is: 4\n"
     ]
    }
   ],
   "source": [
    "ls = [2,3,5,6,1,9,4,1,8,7,1]\n",
    "\n",
    "i = 0\n",
    "while(True):\n",
    "    j = i+1\n",
    "    while(j < len(ls)):\n",
    "        if ls[i] < ls[j] or ls[i] == ls[j]:\n",
    "            j+=1\n",
    "        else:\n",
    "            i = j\n",
    "            j+=1\n",
    "    print(f'The lowest number is : {ls[i]} & its position is: {i}')\n",
    "    break\n",
    "        "
   ]
  },
  {
   "cell_type": "markdown",
   "id": "f35d3427",
   "metadata": {
    "ExecuteTime": {
     "end_time": "2023-07-23T23:20:55.880128Z",
     "start_time": "2023-07-23T23:20:55.861804Z"
    },
    "id": "f35d3427"
   },
   "source": [
    "### 15-Given a number N and an array A of N numbers. Print the numbers after sorting them"
   ]
  },
  {
   "cell_type": "code",
   "execution_count": 93,
   "id": "38100d74",
   "metadata": {
    "ExecuteTime": {
     "end_time": "2023-07-23T23:46:14.343960Z",
     "start_time": "2023-07-23T23:46:14.325805Z"
    },
    "id": "38100d74"
   },
   "outputs": [
    {
     "data": {
      "text/plain": [
       "[1, 2, 3, 4, 5, 6, 7, 8]"
      ]
     },
     "execution_count": 93,
     "metadata": {},
     "output_type": "execute_result"
    }
   ],
   "source": [
    "def Quick_Sort(arr):\n",
    "    if len(arr) <= 1:\n",
    "        return arr\n",
    "        \n",
    "    middle = arr[len(arr)//2]\n",
    "    left  = [x for x in arr if x < middle]\n",
    "    right = [x for x in arr if x > middle]\n",
    "\n",
    "    return Quick_Sort(left)+[middle]+Quick_Sort(right)\n",
    "\n",
    "arr = [2,3,4,1,5,8,6,7]\n",
    "Quick_Sort(arr)"
   ]
  },
  {
   "cell_type": "markdown",
   "id": "a172f354",
   "metadata": {
    "ExecuteTime": {
     "end_time": "2023-07-23T23:46:15.127981Z",
     "start_time": "2023-07-23T23:46:15.108766Z"
    },
    "id": "a172f354"
   },
   "source": [
    "### 16- Write a Python program to remove spaces from a given string"
   ]
  },
  {
   "cell_type": "code",
   "execution_count": 75,
   "id": "36d3569d",
   "metadata": {
    "ExecuteTime": {
     "end_time": "2023-07-23T23:50:06.443640Z",
     "start_time": "2023-07-23T23:50:01.592919Z"
    },
    "id": "36d3569d"
   },
   "outputs": [
    {
     "name": "stdout",
     "output_type": "stream",
     "text": [
      "mynameisahmed\n"
     ]
    }
   ],
   "source": [
    "name = \"my name is ahmed\"\n",
    "new_name=\"\"\n",
    "for i in name:\n",
    "    if i == \" \":\n",
    "        continue\n",
    "    new_name+=i\n",
    "\n",
    "print(new_name)"
   ]
  },
  {
   "cell_type": "markdown",
   "id": "a5470d49",
   "metadata": {
    "id": "a5470d49"
   },
   "source": [
    "### 17-write a Python program to swap first and last element of any list."
   ]
  },
  {
   "cell_type": "code",
   "execution_count": 35,
   "id": "9d73887b",
   "metadata": {
    "ExecuteTime": {
     "end_time": "2023-07-23T23:50:59.283429Z",
     "start_time": "2023-07-23T23:50:59.272096Z"
    },
    "id": "9d73887b"
   },
   "outputs": [
    {
     "data": {
      "text/plain": [
       "[5, 2, 3, 4, 1]"
      ]
     },
     "execution_count": 35,
     "metadata": {},
     "output_type": "execute_result"
    }
   ],
   "source": [
    "def Swap(arr):\n",
    "    temp = arr[0]\n",
    "    arr[0]  = arr[-1]\n",
    "    arr[-1] = temp\n",
    "\n",
    "    return arr\n",
    "\n",
    "Swap([1,2,3,4,5])"
   ]
  },
  {
   "cell_type": "markdown",
   "id": "iS6JiE4uPbyH",
   "metadata": {
    "id": "iS6JiE4uPbyH"
   },
   "source": [
    "# **Write a Python Program to Find HCF.**\n",
    "## Highest Common Factor(HCF): HCF, or Highest Common Factor, is the largest positive integer that divides two or more numbers without leaving a remainder. Formula: For two numbers a and b, the HCF can be found using the formula:\n",
    "\n",
    "** HCF(𝑎, 𝑏) = GCD(𝑎, 𝑏)**\n",
    "For more than two numbers, you can find the HCF by taking the GCD of pairs of numbers at a time until you reach the last pair.\n",
    "\n",
    "# **Note: GCD stands for Greatest Common Divisor, use function.**\n"
   ]
  },
  {
   "cell_type": "markdown",
   "id": "99f809dd-cdfa-40d2-8138-5448de67ab4d",
   "metadata": {
    "id": "9qUfYf0wPnvt"
   },
   "source": [
    "    Input: a = 20, b = 28\n",
    "    Output: 4\n",
    "    Explanation: The factors of 20 are 1, 2, 4, 5, 10 and 20. The factors of 28 are 1, 2, 4, 7, 14 and 28. Among these factors, 1, 2 and 4 are the common factors of both 20 and 28. The greatest among the common factors is 4.\n",
    "\n",
    "    Input: a = 60, b = 36\n",
    "    Output: 12"
   ]
  },
  {
   "cell_type": "code",
   "execution_count": 7,
   "id": "z_H0XSJnPeMw",
   "metadata": {
    "id": "z_H0XSJnPeMw"
   },
   "outputs": [
    {
     "name": "stdin",
     "output_type": "stream",
     "text": [
      " 60 36\n"
     ]
    },
    {
     "name": "stdout",
     "output_type": "stream",
     "text": [
      "{'Output 60': [1, 2, 3, 4, 5, 6, 10, 12, 15, 20, 30, 60], 'Output 36': [1, 2, 3, 4, 6, 9, 12, 18, 36]}\n",
      "Common factors [1, 2, 3, 4, 6, 12]\n",
      "The greatest among the common factors is 12\n"
     ]
    }
   ],
   "source": [
    "Outputs = {} \n",
    "\n",
    "try:\n",
    "    n  = list(map(int, input().split()))\n",
    "except:\n",
    "    print(\"Please enter an integer numbers :)\")\n",
    "\n",
    "def Common_fact(n):\n",
    "    for i in n:\n",
    "        Output = []\n",
    "        for j in range(1, i+1):\n",
    "            if i % j == 0:\n",
    "                Output.append(j)\n",
    "        Outputs[f'Output {i}'] = Output\n",
    "    \n",
    "    print(Outputs)\n",
    "    Common_fact = list(set(Outputs[f'Output {n[0]}']) & set(Outputs[f'Output {n[1]}']))\n",
    "    print(f'Common factors {Common_fact}')\n",
    "    print(f'The greatest among the common factors is {max(Common_fact)}')\n",
    "\n",
    "Common_fact(n)"
   ]
  },
  {
   "cell_type": "code",
   "execution_count": null,
   "id": "8ce7e494-2a89-4608-a521-4174b8293975",
   "metadata": {},
   "outputs": [],
   "source": []
  }
 ],
 "metadata": {
  "colab": {
   "provenance": []
  },
  "kernelspec": {
   "display_name": "Python 3 (ipykernel)",
   "language": "python",
   "name": "python3"
  },
  "language_info": {
   "codemirror_mode": {
    "name": "ipython",
    "version": 3
   },
   "file_extension": ".py",
   "mimetype": "text/x-python",
   "name": "python",
   "nbconvert_exporter": "python",
   "pygments_lexer": "ipython3",
   "version": "3.12.7"
  }
 },
 "nbformat": 4,
 "nbformat_minor": 5
}
