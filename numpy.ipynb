{
 "cells": [
  {
   "cell_type": "code",
   "execution_count": 2,
   "id": "3532c421-5a35-4ab2-8409-a94a957cd67f",
   "metadata": {},
   "outputs": [],
   "source": [
    "#import libraries\n",
    "import numpy as np"
   ]
  },
  {
   "cell_type": "markdown",
   "id": "338ec2ac-f7df-42d2-8639-f35a4db5379c",
   "metadata": {},
   "source": [
    "#### 1. Get NumPy Version & Build Info"
   ]
  },
  {
   "cell_type": "code",
   "execution_count": 5,
   "id": "66f0d32a-d4c3-4ac8-928f-aad37b547b15",
   "metadata": {},
   "outputs": [
    {
     "name": "stdout",
     "output_type": "stream",
     "text": [
      "1.26.4\n"
     ]
    }
   ],
   "source": [
    "print(np.__version__)"
   ]
  },
  {
   "cell_type": "markdown",
   "id": "efb1412e-475c-4e19-8d25-4c2a903a67ab",
   "metadata": {},
   "source": [
    "#### 2. Help for NumPy Add Function"
   ]
  },
  {
   "cell_type": "code",
   "execution_count": 6,
   "id": "3a338449-f290-450a-aef7-d9ba2cd396ef",
   "metadata": {},
   "outputs": [
    {
     "name": "stdout",
     "output_type": "stream",
     "text": [
      "add(x1, x2, /, out=None, *, where=True, casting='same_kind', order='K', dtype=None, subok=True[, signature, extobj])\n",
      "\n",
      "Add arguments element-wise.\n",
      "\n",
      "Parameters\n",
      "----------\n",
      "x1, x2 : array_like\n",
      "    The arrays to be added.\n",
      "    If ``x1.shape != x2.shape``, they must be broadcastable to a common\n",
      "    shape (which becomes the shape of the output).\n",
      "out : ndarray, None, or tuple of ndarray and None, optional\n",
      "    A location into which the result is stored. If provided, it must have\n",
      "    a shape that the inputs broadcast to. If not provided or None,\n",
      "    a freshly-allocated array is returned. A tuple (possible only as a\n",
      "    keyword argument) must have length equal to the number of outputs.\n",
      "where : array_like, optional\n",
      "    This condition is broadcast over the input. At locations where the\n",
      "    condition is True, the `out` array will be set to the ufunc result.\n",
      "    Elsewhere, the `out` array will retain its original value.\n",
      "    Note that if an uninitialized `out` array is created via the default\n",
      "    ``out=None``, locations within it where the condition is False will\n",
      "    remain uninitialized.\n",
      "**kwargs\n",
      "    For other keyword-only arguments, see the\n",
      "    :ref:`ufunc docs <ufuncs.kwargs>`.\n",
      "\n",
      "Returns\n",
      "-------\n",
      "add : ndarray or scalar\n",
      "    The sum of `x1` and `x2`, element-wise.\n",
      "    This is a scalar if both `x1` and `x2` are scalars.\n",
      "\n",
      "Notes\n",
      "-----\n",
      "Equivalent to `x1` + `x2` in terms of array broadcasting.\n",
      "\n",
      "Examples\n",
      "--------\n",
      ">>> np.add(1.0, 4.0)\n",
      "5.0\n",
      ">>> x1 = np.arange(9.0).reshape((3, 3))\n",
      ">>> x2 = np.arange(3.0)\n",
      ">>> np.add(x1, x2)\n",
      "array([[  0.,   2.,   4.],\n",
      "       [  3.,   5.,   7.],\n",
      "       [  6.,   8.,  10.]])\n",
      "\n",
      "The ``+`` operator can be used as a shorthand for ``np.add`` on ndarrays.\n",
      "\n",
      ">>> x1 = np.arange(9.0).reshape((3, 3))\n",
      ">>> x2 = np.arange(3.0)\n",
      ">>> x1 + x2\n",
      "array([[ 0.,  2.,  4.],\n",
      "       [ 3.,  5.,  7.],\n",
      "       [ 6.,  8., 10.]])\n",
      "None\n"
     ]
    }
   ],
   "source": [
    "print(np.info(np.add))"
   ]
  },
  {
   "cell_type": "markdown",
   "id": "21d03f18-7127-462d-8627-cc5a6281bc53",
   "metadata": {},
   "source": [
    "#### 3. Write a NumPy program to test whether none of the elements of a given array are zero."
   ]
  },
  {
   "cell_type": "code",
   "execution_count": 18,
   "id": "69cc031c-4243-4f99-a1f5-02b360cb94b7",
   "metadata": {},
   "outputs": [
    {
     "name": "stdout",
     "output_type": "stream",
     "text": [
      "[1, 2, 3, 4, 5]\n"
     ]
    }
   ],
   "source": [
    "x1 = [1,2,3,4,5]\n",
    "print(x1)"
   ]
  },
  {
   "cell_type": "code",
   "execution_count": 19,
   "id": "d20dd8f5-cc41-409d-95ad-82dcfb5ac11d",
   "metadata": {},
   "outputs": [
    {
     "name": "stdout",
     "output_type": "stream",
     "text": [
      "True\n"
     ]
    }
   ],
   "source": [
    "print(np.all(x1))"
   ]
  },
  {
   "cell_type": "code",
   "execution_count": 20,
   "id": "cc674b2f-37ff-43eb-b074-bf7f8e88488b",
   "metadata": {},
   "outputs": [
    {
     "name": "stdout",
     "output_type": "stream",
     "text": [
      "[1, 2, 3, 4, 5, nan]\n"
     ]
    }
   ],
   "source": [
    "x2 = [1,2,3,4,5,np.nan]\n",
    "print(x2)"
   ]
  },
  {
   "cell_type": "code",
   "execution_count": 21,
   "id": "2558404a-b059-41f0-998c-c41da8df6018",
   "metadata": {},
   "outputs": [
    {
     "name": "stdout",
     "output_type": "stream",
     "text": [
      "True\n"
     ]
    }
   ],
   "source": [
    "print(np.all(x2))"
   ]
  },
  {
   "cell_type": "code",
   "execution_count": 22,
   "id": "a00cdf70-50af-4b67-a8c3-472af9575928",
   "metadata": {},
   "outputs": [
    {
     "name": "stdout",
     "output_type": "stream",
     "text": [
      "[0, 1, 2, 3, 4, 5]\n"
     ]
    }
   ],
   "source": [
    "x3 = [0,1,2,3,4,5]\n",
    "print(x3)"
   ]
  },
  {
   "cell_type": "code",
   "execution_count": 23,
   "id": "ccc00326-4956-4547-9241-b227b636423c",
   "metadata": {},
   "outputs": [
    {
     "name": "stdout",
     "output_type": "stream",
     "text": [
      "False\n"
     ]
    }
   ],
   "source": [
    "print(np.all(x3))"
   ]
  },
  {
   "cell_type": "markdown",
   "id": "b6f1c0f3-4d1b-4846-985f-3f809f19c02f",
   "metadata": {},
   "source": [
    "#### 4. Create Array of Zeros, Ones, Fives"
   ]
  },
  {
   "cell_type": "code",
   "execution_count": 25,
   "id": "955689c2-3457-4917-a52c-34d6d5e4c936",
   "metadata": {},
   "outputs": [
    {
     "name": "stdout",
     "output_type": "stream",
     "text": [
      "[[0. 0. 0.]\n",
      " [0. 0. 0.]\n",
      " [0. 0. 0.]]\n"
     ]
    }
   ],
   "source": [
    "print(np.zeros((3,3)))"
   ]
  },
  {
   "cell_type": "code",
   "execution_count": 26,
   "id": "f6dc5f46-241c-43d5-8a7c-5eb029de7309",
   "metadata": {},
   "outputs": [
    {
     "name": "stdout",
     "output_type": "stream",
     "text": [
      "[[1. 1. 1.]\n",
      " [1. 1. 1.]\n",
      " [1. 1. 1.]]\n"
     ]
    }
   ],
   "source": [
    "print(np.ones((3,3)))"
   ]
  },
  {
   "cell_type": "code",
   "execution_count": 27,
   "id": "dc16284f-12fe-4c85-9a4d-579b5334efba",
   "metadata": {},
   "outputs": [
    {
     "name": "stdout",
     "output_type": "stream",
     "text": [
      "[[5. 5. 5.]\n",
      " [5. 5. 5.]\n",
      " [5. 5. 5.]]\n"
     ]
    }
   ],
   "source": [
    "print(np.ones((3,3))*5)"
   ]
  },
  {
   "cell_type": "markdown",
   "id": "e02ecf7d-2e4a-41b6-8b4c-6b61257ac332",
   "metadata": {},
   "source": [
    "#### 5. Create Array of Integers 30 to 70"
   ]
  },
  {
   "cell_type": "code",
   "execution_count": 31,
   "id": "94273628-cc6a-4280-a33a-3ebbecb5b847",
   "metadata": {},
   "outputs": [
    {
     "name": "stdout",
     "output_type": "stream",
     "text": [
      "[30 31 32 33 34 35 36 37 38 39 40 41 42 43 44 45 46 47 48 49 50 51 52 53\n",
      " 54 55 56 57 58 59 60 61 62 63 64 65 66 67 68 69 70]\n"
     ]
    }
   ],
   "source": [
    "print(np.array(np.arange(30,71)))"
   ]
  },
  {
   "cell_type": "markdown",
   "id": "2fde4233-f047-4bc1-9942-f588ebf8f972",
   "metadata": {},
   "source": [
    "#### 6. Create Array of Even Integers 30 to 70"
   ]
  },
  {
   "cell_type": "code",
   "execution_count": 32,
   "id": "c2022592-471f-4dd6-8be9-f1307803538c",
   "metadata": {},
   "outputs": [
    {
     "name": "stdout",
     "output_type": "stream",
     "text": [
      "[30 32 34 36 38 40 42 44 46 48 50 52 54 56 58 60 62 64 66 68 70]\n"
     ]
    }
   ],
   "source": [
    "print(np.array(np.arange(30,71,2)))"
   ]
  },
  {
   "cell_type": "markdown",
   "id": "226744b6-a676-4af6-bec1-f122bf77428b",
   "metadata": {},
   "source": [
    "#### 7. Create 3x3 Identity Matrix"
   ]
  },
  {
   "cell_type": "code",
   "execution_count": 35,
   "id": "8a82158f-9377-4443-a439-e6e5fee80f2a",
   "metadata": {},
   "outputs": [
    {
     "name": "stdout",
     "output_type": "stream",
     "text": [
      "[[1. 0. 0.]\n",
      " [0. 1. 0.]\n",
      " [0. 0. 1.]]\n"
     ]
    }
   ],
   "source": [
    "print(np.eye(3,3))"
   ]
  },
  {
   "cell_type": "markdown",
   "id": "ea2a7f39-bab9-4952-b5ff-7014022461ac",
   "metadata": {},
   "source": [
    "#### 8. Generate Random Number [0,1]"
   ]
  },
  {
   "cell_type": "code",
   "execution_count": 16,
   "id": "7020e62b-63ec-4af2-88d8-c989057bebe6",
   "metadata": {},
   "outputs": [
    {
     "name": "stdout",
     "output_type": "stream",
     "text": [
      "[0.77132064 0.02075195 0.63364823 0.74880388 0.49850701 0.22479665]\n"
     ]
    }
   ],
   "source": [
    "np.random.seed(10)\n",
    "print(np.random.rand(6))"
   ]
  },
  {
   "cell_type": "markdown",
   "id": "d8959ade-4873-4f9e-bbe8-52fe785ff13d",
   "metadata": {},
   "source": [
    "#### 9. Generate Random Array from Standard Normal"
   ]
  },
  {
   "cell_type": "code",
   "execution_count": 17,
   "id": "8778a299-31cf-4daf-98e9-1b5f13c2c918",
   "metadata": {},
   "outputs": [
    {
     "name": "stdout",
     "output_type": "stream",
     "text": [
      "[ 12.42671948 -14.40171121   5.31023171   2.17097051   0.08582862\n",
      "  -3.49200421   8.6605238   24.06074748 -19.30131341  20.56548156\n",
      "   4.5726026    8.90275226 -22.73204424   2.70273757  29.69074004\n",
      " -21.59609772 -39.55456561 -34.86744592   5.32140328  47.69934661\n",
      "  22.47382507  33.45244427   1.98298432  27.95992754  -5.42495976\n",
      "  12.2640837   -5.34634377 -10.98618028   2.65416592  -9.5228403\n",
      "  26.16946162   3.90026558   8.00419977  -6.75264674  25.12944528\n",
      " -14.63939004  13.20463102  -7.01743783 -18.7886672   -9.78674434\n",
      " -16.09182285  -4.25395277  -6.78280492   6.24339873  11.30305339\n",
      "  -2.94840515  -0.51810674   5.78188408 -10.79758143  14.1632004 ]\n"
     ]
    }
   ],
   "source": [
    "arr = np.random.normal(0,20,50)\n",
    "print(arr)"
   ]
  },
  {
   "cell_type": "code",
   "execution_count": 18,
   "id": "48307fb9-22ac-4131-bc38-e81f6ca46dbc",
   "metadata": {},
   "outputs": [
    {
     "data": {
      "image/png": "[encoded data removed]",
      "text/plain": [
       "<Figure size 640x480 with 1 Axes>"
      ]
     },
     "metadata": {},
     "output_type": "display_data"
    }
   ],
   "source": [
    "import matplotlib.pyplot as plt\n",
    "%matplotlib inline\n",
    "import seaborn as sns\n",
    "sns.histplot(arr, kde=True)\n",
    "plt.show()"
   ]
  },
  {
   "cell_type": "markdown",
   "id": "9a887dde-aced-4c89-9c2a-e76b81dd11c9",
   "metadata": {},
   "source": [
    "#### 10. Vector 15-55 Without First/Last Values "
   ]
  },
  {
   "cell_type": "code",
   "execution_count": 68,
   "id": "bd1f25f7-596c-4395-99a6-7371d42867bd",
   "metadata": {},
   "outputs": [
    {
     "name": "stdout",
     "output_type": "stream",
     "text": [
      "[16 17 18 19 20 21 22 23 24 25 26 27 28 29 30 31 32 33 34 35 36 37 38 39\n",
      " 40 41 42 43 44 45 46 47 48 49 50 51 52 53 54]\n"
     ]
    }
   ],
   "source": [
    "print(np.arange(15+1,55))"
   ]
  },
  {
   "cell_type": "markdown",
   "id": "87a54f3e-e1bb-46c5-af4a-c21859019a01",
   "metadata": {},
   "source": [
    "#### 11. Write a NumPy program to create a 3X4 array and iterate over it."
   ]
  },
  {
   "cell_type": "code",
   "execution_count": 70,
   "id": "7e5effd5-9a53-47bc-8040-ddd48a6474eb",
   "metadata": {},
   "outputs": [
    {
     "name": "stdout",
     "output_type": "stream",
     "text": [
      "[[ 1  2  3  4]\n",
      " [ 5  6  7  8]\n",
      " [ 9 10 11 12]]\n"
     ]
    }
   ],
   "source": [
    "arr2 = np.arange(1,13).reshape((3,4))\n",
    "print(arr2)"
   ]
  },
  {
   "cell_type": "code",
   "execution_count": 74,
   "id": "e9dcabb5-8ac1-4156-84b2-96b10f5b2bde",
   "metadata": {},
   "outputs": [
    {
     "name": "stdout",
     "output_type": "stream",
     "text": [
      "1\n",
      "2\n",
      "3\n",
      "4\n",
      "5\n",
      "6\n",
      "7\n",
      "8\n",
      "9\n",
      "10\n",
      "11\n",
      "12\n"
     ]
    }
   ],
   "source": [
    "for i in arr2:\n",
    "    for j in i:\n",
    "        print(j)"
   ]
  },
  {
   "cell_type": "code",
   "execution_count": 81,
   "id": "1099d960-2691-4599-96f0-3993dd37ab95",
   "metadata": {},
   "outputs": [
    {
     "name": "stdout",
     "output_type": "stream",
     "text": [
      "1  \n",
      "2  \n",
      "3  \n",
      "4  \n",
      "5  \n",
      "6  \n",
      "7  \n",
      "8  \n",
      "9  \n",
      "10  \n",
      "11  \n",
      "12  \n"
     ]
    }
   ],
   "source": [
    "for i in np.nditer(arr2):\n",
    "    print(i, \" \")"
   ]
  },
  {
   "cell_type": "markdown",
   "id": "2400c216-ce2f-4aa9-8360-2d757fa19694",
   "metadata": {},
   "source": [
    "#### 12. Write a NumPy program to create a vector of length 10 with values evenly distributed between 5 and 50 "
   ]
  },
  {
   "cell_type": "code",
   "execution_count": 82,
   "id": "3b5fe7d0-09ab-4713-a007-d512097fa049",
   "metadata": {},
   "outputs": [
    {
     "name": "stdout",
     "output_type": "stream",
     "text": [
      "[ 5. 10. 15. 20. 25. 30. 35. 40. 45. 50.]\n"
     ]
    }
   ],
   "source": [
    "print(np.linspace(5,50,10))"
   ]
  },
  {
   "cell_type": "markdown",
   "id": "c77b9f50-5c97-428c-b8d5-1a4c594f2375",
   "metadata": {},
   "source": [
    "#### 13. Write a NumPy program to create a vector with values from 0 to 20 and change the sign of the numbers in the range from 9 to 15."
   ]
  },
  {
   "cell_type": "code",
   "execution_count": 97,
   "id": "b6b01e3e-df67-4aff-bf8d-7e6e86e6085b",
   "metadata": {},
   "outputs": [
    {
     "name": "stdout",
     "output_type": "stream",
     "text": [
      "[ 0  1  2  3  4  5  6  7  8  9 10 11 12 13 14 15 16 17 18 19 20]\n"
     ]
    }
   ],
   "source": [
    "arr3 = np.arange(0,21)\n",
    "#before\n",
    "print(arr3)"
   ]
  },
  {
   "cell_type": "code",
   "execution_count": 99,
   "id": "8e83987f-d01e-444b-bfb0-1a4b141ad635",
   "metadata": {},
   "outputs": [],
   "source": [
    "arr3[(arr3 >= 9) & (arr3 < 16)] *= -1"
   ]
  },
  {
   "cell_type": "code",
   "execution_count": 100,
   "id": "8ae18e40-7cd1-4d6e-9157-d2229ae27ca7",
   "metadata": {},
   "outputs": [
    {
     "name": "stdout",
     "output_type": "stream",
     "text": [
      "[  0   1   2   3   4   5   6   7   8  -9 -10 -11 -12 -13 -14 -15  16  17\n",
      "  18  19  20]\n"
     ]
    }
   ],
   "source": [
    "#after\n",
    "print(arr3)"
   ]
  },
  {
   "cell_type": "markdown",
   "id": "c066bf10-8bd6-4e98-93ef-b01d6926a31c",
   "metadata": {},
   "source": [
    "#### 14. Vector of Random Integers [0,10]"
   ]
  },
  {
   "cell_type": "code",
   "execution_count": 104,
   "id": "8c91ee30-f083-4078-acfb-7cc486da2634",
   "metadata": {},
   "outputs": [
    {
     "name": "stdout",
     "output_type": "stream",
     "text": [
      "[0 1 0 1 9 0 9 2 1 1]\n"
     ]
    }
   ],
   "source": [
    "print(np.random.randint(0,10,10))"
   ]
  },
  {
   "cell_type": "markdown",
   "id": "c6eae899-db8a-4d2f-80e7-37ff4a76900c",
   "metadata": {},
   "source": [
    "#### 15. Multiply Two Vectors"
   ]
  },
  {
   "cell_type": "code",
   "execution_count": 111,
   "id": "8938f271-7c76-493e-8822-28f8cb13d413",
   "metadata": {},
   "outputs": [
    {
     "name": "stdout",
     "output_type": "stream",
     "text": [
      "[ 5 12 21 32]\n"
     ]
    }
   ],
   "source": [
    "x = np.arange(1,5) \n",
    "y = np.arange(5,9) \n",
    "\n",
    "print(np.multiply(x,y))"
   ]
  },
  {
   "cell_type": "markdown",
   "id": "8762c624-199d-42aa-a1ae-270c071e79a4",
   "metadata": {},
   "source": [
    "#### 16. Create 3x4 Matrix (10 to 21)"
   ]
  },
  {
   "cell_type": "code",
   "execution_count": 114,
   "id": "d06cc7e4-33da-4d7b-abe1-37aaa88af2f0",
   "metadata": {},
   "outputs": [
    {
     "name": "stdout",
     "output_type": "stream",
     "text": [
      "[[10 11 12 13]\n",
      " [14 15 16 17]\n",
      " [18 19 20 21]]\n"
     ]
    }
   ],
   "source": [
    "print(np.arange(10,22).reshape((3,4)))"
   ]
  },
  {
   "cell_type": "markdown",
   "id": "75710510-3bc4-4f4b-b598-418bb539c8de",
   "metadata": {},
   "source": [
    "#### 17. Write a NumPy program to find the number of rows and columns in a given matrix"
   ]
  },
  {
   "cell_type": "code",
   "execution_count": 116,
   "id": "79bff71f-3f7b-42f8-9f4a-31c1becaf03d",
   "metadata": {},
   "outputs": [
    {
     "name": "stdout",
     "output_type": "stream",
     "text": [
      "(3, 4)\n"
     ]
    }
   ],
   "source": [
    "print(arr2.shape)"
   ]
  },
  {
   "cell_type": "markdown",
   "id": "ceb803c6-c505-473b-96e6-cf6710c0f66d",
   "metadata": {},
   "source": [
    "#### 18. Create 3x3 Identity Matrix"
   ]
  },
  {
   "cell_type": "code",
   "execution_count": 118,
   "id": "770e1a1c-2acb-4346-9aff-7549bf39ffd3",
   "metadata": {},
   "outputs": [
    {
     "name": "stdout",
     "output_type": "stream",
     "text": [
      "[[1. 0. 0.]\n",
      " [0. 1. 0.]\n",
      " [0. 0. 1.]]\n"
     ]
    }
   ],
   "source": [
    "print(np.eye(3,3))"
   ]
  },
  {
   "cell_type": "markdown",
   "id": "229cf342-11eb-40e3-971a-930677831f8e",
   "metadata": {},
   "source": [
    "#### 19. 10x10 Matrix Border 1, Inside 0 "
   ]
  },
  {
   "cell_type": "code",
   "execution_count": 3,
   "id": "d829b51f-caf5-4c36-931a-f5b6e1ab42c4",
   "metadata": {},
   "outputs": [
    {
     "data": {
      "text/plain": [
       "array([[1., 1., 1., 1., 1., 1., 1., 1., 1., 1.],\n",
       "       [1., 1., 1., 1., 1., 1., 1., 1., 1., 1.],\n",
       "       [1., 1., 1., 1., 1., 1., 1., 1., 1., 1.],\n",
       "       [1., 1., 1., 1., 1., 1., 1., 1., 1., 1.],\n",
       "       [1., 1., 1., 1., 1., 1., 1., 1., 1., 1.],\n",
       "       [1., 1., 1., 1., 1., 1., 1., 1., 1., 1.],\n",
       "       [1., 1., 1., 1., 1., 1., 1., 1., 1., 1.],\n",
       "       [1., 1., 1., 1., 1., 1., 1., 1., 1., 1.],\n",
       "       [1., 1., 1., 1., 1., 1., 1., 1., 1., 1.],\n",
       "       [1., 1., 1., 1., 1., 1., 1., 1., 1., 1.]])"
      ]
     },
     "execution_count": 3,
     "metadata": {},
     "output_type": "execute_result"
    }
   ],
   "source": [
    "arr4 = np.ones((10,10))\n",
    "arr4"
   ]
  },
  {
   "cell_type": "code",
   "execution_count": 5,
   "id": "f1e08fde-343d-4066-8eec-24ee790d3a99",
   "metadata": {},
   "outputs": [
    {
     "name": "stdout",
     "output_type": "stream",
     "text": [
      "[[1. 1. 1. 1. 1. 1. 1. 1. 1. 1.]\n",
      " [1. 0. 0. 0. 0. 0. 0. 0. 0. 1.]\n",
      " [1. 0. 0. 0. 0. 0. 0. 0. 0. 1.]\n",
      " [1. 0. 0. 0. 0. 0. 0. 0. 0. 1.]\n",
      " [1. 0. 0. 0. 0. 0. 0. 0. 0. 1.]\n",
      " [1. 0. 0. 0. 0. 0. 0. 0. 0. 1.]\n",
      " [1. 0. 0. 0. 0. 0. 0. 0. 0. 1.]\n",
      " [1. 0. 0. 0. 0. 0. 0. 0. 0. 1.]\n",
      " [1. 0. 0. 0. 0. 0. 0. 0. 0. 1.]\n",
      " [1. 1. 1. 1. 1. 1. 1. 1. 1. 1.]]\n"
     ]
    }
   ],
   "source": [
    "arr4[1:-1 , 1:-1] = 0\n",
    "print(arr4)"
   ]
  },
  {
   "cell_type": "markdown",
   "id": "0676ff31-feee-4111-936b-6ab71bb8c828",
   "metadata": {},
   "source": [
    "#### 20. Write a NumPy program to create a 5x5 zero matrix with elements on the main diagonal equal to 1, 2, 3, 4, 5."
   ]
  },
  {
   "cell_type": "code",
   "execution_count": 18,
   "id": "f84cdece-d61d-4cb3-b86c-5b728eb527e2",
   "metadata": {},
   "outputs": [
    {
     "name": "stdout",
     "output_type": "stream",
     "text": [
      "[[1 0 0 0 0]\n",
      " [0 2 0 0 0]\n",
      " [0 0 3 0 0]\n",
      " [0 0 0 4 0]\n",
      " [0 0 0 0 5]]\n"
     ]
    }
   ],
   "source": [
    "print(np.diag([1,2,3,4,5]))"
   ]
  },
  {
   "cell_type": "markdown",
   "id": "8c764142-5791-449b-b731-eb57bf64b26b",
   "metadata": {},
   "source": [
    "#### 21. Write a NumPy program to create a 4x4 matrix in which 0 and 1 are staggered, with zeros on the main diagonal."
   ]
  },
  {
   "cell_type": "code",
   "execution_count": 34,
   "id": "3d2e238c-2821-4d8b-ace1-8307a156e66d",
   "metadata": {},
   "outputs": [
    {
     "data": {
      "text/plain": [
       "array([[0., 0., 0., 0.],\n",
       "       [0., 0., 0., 0.],\n",
       "       [0., 0., 0., 0.],\n",
       "       [0., 0., 0., 0.]])"
      ]
     },
     "execution_count": 34,
     "metadata": {},
     "output_type": "execute_result"
    }
   ],
   "source": [
    "array = np.zeros((4,4))\n",
    "array"
   ]
  },
  {
   "cell_type": "code",
   "execution_count": 37,
   "id": "81d37588-21c2-418c-9b69-254d3d4f8fc5",
   "metadata": {},
   "outputs": [
    {
     "name": "stdout",
     "output_type": "stream",
     "text": [
      "[[0. 1. 0. 1.]\n",
      " [1. 0. 1. 0.]\n",
      " [0. 1. 0. 1.]\n",
      " [1. 0. 1. 0.]]\n"
     ]
    }
   ],
   "source": [
    "array[::2, 1::2] = 1\n",
    "array[1::2, ::2] = 1\n",
    "print(array)"
   ]
  },
  {
   "cell_type": "markdown",
   "id": "c96cfff0-3818-43f3-b31c-d61cb7084745",
   "metadata": {},
   "source": [
    "#### 22. Write a NumPy program to create a 3x3x3 array filled with arbitrary values."
   ]
  },
  {
   "cell_type": "code",
   "execution_count": 41,
   "id": "35d821d1-5ddb-4bbc-9fcc-553595d8df52",
   "metadata": {},
   "outputs": [
    {
     "name": "stdout",
     "output_type": "stream",
     "text": [
      "[[[0.43966215 0.55236303 0.64774334]\n",
      "  [0.26283591 0.65377219 0.63370543]\n",
      "  [0.21042809 0.99286002 0.59683925]]\n",
      "\n",
      " [[0.59612697 0.27997465 0.1784713 ]\n",
      "  [0.82950807 0.49748654 0.00121963]\n",
      "  [0.45006944 0.34615033 0.2288684 ]]\n",
      "\n",
      " [[0.39142586 0.3682594  0.72041333]\n",
      "  [0.64469288 0.58936214 0.48489654]\n",
      "  [0.36032948 0.15210146 0.26710307]]]\n"
     ]
    }
   ],
   "source": [
    "ndim_array = np.random.rand(3,3,3)\n",
    "print(ndim_array)"
   ]
  },
  {
   "cell_type": "markdown",
   "id": "6f611334-b34f-450d-99ed-d0bc466ccf34",
   "metadata": {},
   "source": [
    "### 23. Write a NumPy program to compute the sum of all elements, the sum of each column and the sum of each row in a given array."
   ]
  },
  {
   "cell_type": "code",
   "execution_count": 43,
   "id": "44319081-e0ac-42ca-9eee-187d9d43d1d6",
   "metadata": {},
   "outputs": [
    {
     "data": {
      "text/plain": [
       "array([[ 1,  2,  3,  4,  5],\n",
       "       [ 6,  7,  8,  9, 10],\n",
       "       [11, 12, 13, 14, 15],\n",
       "       [16, 17, 18, 19, 20],\n",
       "       [21, 22, 23, 24, 25]])"
      ]
     },
     "execution_count": 43,
     "metadata": {},
     "output_type": "execute_result"
    }
   ],
   "source": [
    "X = np.arange(1,26).reshape((5,5))\n",
    "X"
   ]
  },
  {
   "cell_type": "code",
   "execution_count": 54,
   "id": "ba57ca55-1c76-42bd-b95f-cdf116e2a8d1",
   "metadata": {},
   "outputs": [
    {
     "name": "stdout",
     "output_type": "stream",
     "text": [
      "[ 15  40  65  90 115]\n"
     ]
    }
   ],
   "source": [
    "# sum of each row in a given array\n",
    "result = []\n",
    "for i in range(X.shape[0]):\n",
    "    result.append(X[i,::].sum())\n",
    "print(np.array(result))"
   ]
  },
  {
   "cell_type": "code",
   "execution_count": 52,
   "id": "0039deb8-40be-422f-9780-415ca9ff99e2",
   "metadata": {},
   "outputs": [
    {
     "name": "stdout",
     "output_type": "stream",
     "text": [
      "[ 15  40  65  90 115]\n"
     ]
    }
   ],
   "source": [
    "print(np.sum(X, axis=1))"
   ]
  },
  {
   "cell_type": "code",
   "execution_count": 55,
   "id": "caf1f9af-f58d-4685-9e03-07bbb60930da",
   "metadata": {},
   "outputs": [
    {
     "name": "stdout",
     "output_type": "stream",
     "text": [
      "[55 60 65 70 75]\n"
     ]
    }
   ],
   "source": [
    "# sum of each column in a given array\n",
    "result = []\n",
    "for i in range(X.shape[0]):\n",
    "    result.append(X[::,i].sum())\n",
    "print(np.array(result))"
   ]
  },
  {
   "cell_type": "code",
   "execution_count": 56,
   "id": "a138059c-ad00-4f9e-991c-5c52e2c542ee",
   "metadata": {},
   "outputs": [
    {
     "name": "stdout",
     "output_type": "stream",
     "text": [
      "[55 60 65 70 75]\n"
     ]
    }
   ],
   "source": [
    "print(np.sum(X, axis=0))"
   ]
  },
  {
   "cell_type": "markdown",
   "id": "27625c7c-cf3a-4d69-adf6-c96257127ae8",
   "metadata": {},
   "source": [
    "#### 24. Write a NumPy program to compute the inner product of two given vectors"
   ]
  },
  {
   "cell_type": "code",
   "execution_count": 60,
   "id": "875ff006-db9c-4567-be65-139f826fbe43",
   "metadata": {},
   "outputs": [
    {
     "name": "stdout",
     "output_type": "stream",
     "text": [
      "[215 230 245 260 275]\n"
     ]
    }
   ],
   "source": [
    "X1 = np.arange(1,6)\n",
    "X2 = np.arange(1,26).reshape(5,5)\n",
    "\n",
    "result = np.dot(X1,X2)\n",
    "print(result)"
   ]
  },
  {
   "cell_type": "markdown",
   "id": "a511a6bc-21f9-48e6-af19-2055f9337167",
   "metadata": {},
   "source": [
    "#### 25. Write a NumPy program to add a vector to each row of a given matrix."
   ]
  },
  {
   "cell_type": "code",
   "execution_count": 4,
   "id": "44b026d2-460a-4c7f-85ba-b970b8f9c3c0",
   "metadata": {},
   "outputs": [
    {
     "data": {
      "text/plain": [
       "array([[1., 1., 1.],\n",
       "       [1., 1., 1.],\n",
       "       [1., 1., 1.]])"
      ]
     },
     "execution_count": 4,
     "metadata": {},
     "output_type": "execute_result"
    }
   ],
   "source": [
    "matrix = np.ones((3,3))\n",
    "matrix"
   ]
  },
  {
   "cell_type": "code",
   "execution_count": 5,
   "id": "44a9b619-6d96-4df0-a098-bd8f3621c338",
   "metadata": {},
   "outputs": [],
   "source": [
    "vector = np.array([2,2,2])"
   ]
  },
  {
   "cell_type": "code",
   "execution_count": 8,
   "id": "917d483c-112a-46cf-963d-6c611e9dfc46",
   "metadata": {},
   "outputs": [
    {
     "name": "stdout",
     "output_type": "stream",
     "text": [
      "[[3. 3. 3.]\n",
      " [3. 3. 3.]\n",
      " [3. 3. 3.]]\n"
     ]
    }
   ],
   "source": [
    "new = matrix + vector\n",
    "print(new)"
   ]
  },
  {
   "cell_type": "markdown",
   "id": "1609765f-8a94-4ce6-94bd-52647c0bd2a5",
   "metadata": {},
   "source": [
    "#### 26. List to Array to List Comparison"
   ]
  },
  {
   "cell_type": "code",
   "execution_count": 9,
   "id": "8fc93eff-d02f-4f37-8fc5-dde8f91c8a8a",
   "metadata": {},
   "outputs": [
    {
     "name": "stdout",
     "output_type": "stream",
     "text": [
      "[2 4 5 6]\n",
      "<class 'numpy.ndarray'>\n"
     ]
    }
   ],
   "source": [
    "list = [2,4,5,6]\n",
    "#list to array\n",
    "array = np.array(list)\n",
    "print(array)\n",
    "print(type(array))"
   ]
  },
  {
   "cell_type": "code",
   "execution_count": 11,
   "id": "3af88538-44e0-4514-8133-66ca2044f330",
   "metadata": {},
   "outputs": [
    {
     "name": "stdout",
     "output_type": "stream",
     "text": [
      "[2, 4, 5, 6]\n",
      "<class 'list'>\n"
     ]
    }
   ],
   "source": [
    "#array to list\n",
    "list2 = array.tolist()\n",
    "print(list2)\n",
    "print(type(list2))"
   ]
  },
  {
   "cell_type": "code",
   "execution_count": 14,
   "id": "aa440c05-804f-4fa0-9f5e-26715887635f",
   "metadata": {},
   "outputs": [
    {
     "name": "stdout",
     "output_type": "stream",
     "text": [
      "True\n"
     ]
    }
   ],
   "source": [
    "#Comparison\n",
    "print(list2 == list)"
   ]
  },
  {
   "cell_type": "markdown",
   "id": "5697eb7f-27e0-4784-8ef0-4766dc703bc0",
   "metadata": {},
   "source": [
    "#### 27. Sine Curve Coordinates with Plot"
   ]
  },
  {
   "cell_type": "code",
   "execution_count": 20,
   "id": "7c67de1b-a812-439f-af39-27ae41effd55",
   "metadata": {},
   "outputs": [
    {
     "data": {
      "image/png": "[encoded data removed]",
      "text/plain": [
       "<Figure size 640x480 with 1 Axes>"
      ]
     },
     "metadata": {},
     "output_type": "display_data"
    }
   ],
   "source": [
    "x = np.arange(0,3*np.pi,0.2)\n",
    "y = np.sin(x)\n",
    "\n",
    "plt.plot(x,y)\n",
    "plt.show()"
   ]
  },
  {
   "cell_type": "markdown",
   "id": "e26142f8-fbe7-469c-a7df-b8e357a4fbcd",
   "metadata": {},
   "source": [
    "#### 28. Find Missing Data in Array"
   ]
  },
  {
   "cell_type": "code",
   "execution_count": 36,
   "id": "2554c652-0537-4b92-b8f2-b98034d246ca",
   "metadata": {},
   "outputs": [
    {
     "name": "stdout",
     "output_type": "stream",
     "text": [
      "[False False False False  True False  True]\n"
     ]
    }
   ],
   "source": [
    "data = np.array([1,2,3,5,np.nan,6,np.nan])\n",
    "print(np.isnan(data))"
   ]
  },
  {
   "cell_type": "code",
   "execution_count": 37,
   "id": "9f9a535d-5192-4dd6-8c4d-272aed21642c",
   "metadata": {},
   "outputs": [
    {
     "name": "stdout",
     "output_type": "stream",
     "text": [
      "2\n"
     ]
    }
   ],
   "source": [
    "print(np.isnan(data).sum())"
   ]
  },
  {
   "cell_type": "markdown",
   "id": "85642315-1274-4a2e-89cf-ae2bc3241a2d",
   "metadata": {},
   "source": [
    "#### 29. Create Array of Random Uniform [0,1]"
   ]
  },
  {
   "cell_type": "code",
   "execution_count": 46,
   "id": "b06ef0df-6dd9-4a9f-8ce1-a8faa7addf0d",
   "metadata": {},
   "outputs": [],
   "source": [
    "np.random.seed(10)\n",
    "uni = np.random.uniform(0,1,50)"
   ]
  },
  {
   "cell_type": "code",
   "execution_count": 47,
   "id": "482d80e4-bac3-4162-a72a-b3bfb09fbd51",
   "metadata": {},
   "outputs": [
    {
     "data": {
      "image/png": "[encoded data removed]",
      "text/plain": [
       "<Figure size 640x480 with 1 Axes>"
      ]
     },
     "metadata": {},
     "output_type": "display_data"
    }
   ],
   "source": [
    "sns.histplot(uni, kde=True)\n",
    "plt.show()"
   ]
  },
  {
   "cell_type": "markdown",
   "id": "a62733de-557a-493b-96ce-62ffd9fd7e32",
   "metadata": {},
   "source": [
    "#### 30. Random Sampling with/without Replacement"
   ]
  },
  {
   "cell_type": "code",
   "execution_count": 68,
   "id": "0fe7f58b-262e-4809-8af9-e5ea108272a4",
   "metadata": {},
   "outputs": [
    {
     "name": "stdout",
     "output_type": "stream",
     "text": [
      "[5 1 0]\n"
     ]
    }
   ],
   "source": [
    "#with replacement\n",
    "print(np.random.choice(6,3))"
   ]
  },
  {
   "cell_type": "code",
   "execution_count": 69,
   "id": "1445e054-037f-4735-8389-978d0ef83619",
   "metadata": {},
   "outputs": [
    {
     "name": "stdout",
     "output_type": "stream",
     "text": [
      "[3 5 4]\n"
     ]
    }
   ],
   "source": [
    "#without replacement\n",
    "print(np.random.choice(6,3, replace=False))"
   ]
  },
  {
   "cell_type": "code",
   "execution_count": null,
   "id": "fd313ac2-7ab9-40ae-b805-c0bb6aeaacb1",
   "metadata": {},
   "outputs": [],
   "source": []
  }
 ],
 "metadata": {
  "kernelspec": {
   "display_name": "Python 3 (ipykernel)",
   "language": "python",
   "name": "python3"
  },
  "language_info": {
   "codemirror_mode": {
    "name": "ipython",
    "version": 3
   },
   "file_extension": ".py",
   "mimetype": "text/x-python",
   "name": "python",
   "nbconvert_exporter": "python",
   "pygments_lexer": "ipython3",
   "version": "3.12.4"
  }
 },
 "nbformat": 4,
 "nbformat_minor": 5
}
